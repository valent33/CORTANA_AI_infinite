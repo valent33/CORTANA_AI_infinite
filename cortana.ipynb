{
 "cells": [
  {
   "cell_type": "code",
   "execution_count": 1,
   "metadata": {},
   "outputs": [],
   "source": [
    "from utils import *"
   ]
  },
  {
   "cell_type": "code",
   "execution_count": 2,
   "metadata": {},
   "outputs": [],
   "source": [
    "df = pd.DataFrame(columns=['shield', 'health', 'kill_feed', 'ally_front', 'ally_left', 'ally_right', 'ally_behind', 'enemy_front', 'enemy_left', 'enemy_right', 'enemy_behind'])\n",
    "df.loc[0, 'shield'] = 100\n",
    "df.loc[0, 'health'] = 100\n",
    "df.loc[0, 'main_weapon'] = 'ar'\n",
    "df.loc[0, 'secondary_weapon'] = 'sidekick'\n",
    "df.loc[0, 'kill_feed'] = 0\n",
    "df.loc[0, 'ally_front'] = 0\n",
    "df.loc[0, 'ally_left'] = 0\n",
    "df.loc[0, 'ally_right'] = 0\n",
    "df.loc[0, 'ally_behind'] = 0\n",
    "df.loc[0, 'enemy_front'] = 0\n",
    "df.loc[0, 'enemy_left'] = 0\n",
    "df.loc[0, 'enemy_right'] = 0\n",
    "df.loc[0, 'enemy_behind'] = 0"
   ]
  },
  {
   "cell_type": "code",
   "execution_count": 3,
   "metadata": {},
   "outputs": [
    {
     "name": "stdout",
     "output_type": "stream",
     "text": [
      "weapon change detected, playing that should do it.mp3\n",
      "shield restored, playing so what now chief.mp3\n",
      "enemies in front, playing wait i still think we got company.mp3\n",
      "enemies behind you, playing behind you.mp3\n",
      "RAS now son't u have a fight to finish.mp3\n",
      "RAS now son't u have a fight to finish.mp3\n",
      "kill feed detected, playing no match for you.mp3\n",
      "enemies in front, playing john the mc will stop u.mp3\n",
      "enemies in front, playing john the mc will stop u.mp3\n",
      "RAS now son't u have a fight to finish.mp3\n",
      "enemies in front, playing wait theres smt else.mp3\n",
      "kill feed detected, playing no match for you.mp3\n",
      "kill feed detected, playing no match for you.mp3\n",
      "shield restored, playing phew glad that's over.mp3\n",
      "RAS now son't u have a fight to finish.mp3\n",
      "RAS now son't u have a fight to finish.mp3\n",
      "RAS now son't u have a fight to finish.mp3\n",
      "shield damaged, playing chief lookout.mp3\n",
      "enemies in front, playing john the mc will stop u.mp3\n",
      "enemies in front, playing wait i still think we got company.mp3\n",
      "enemies in front, playing john the mc will stop u.mp3\n",
      "enemies in front, playing squad's down.mp3\n",
      "RAS now son't u have a fight to finish.mp3\n",
      "RAS now son't u have a fight to finish.mp3\n",
      "enemies in front, playing nobody left between you and target finish this.mp3\n",
      "shield damaged, playing chief watch urself.mp3\n",
      "weapon change detected, playing that should come in handy.mp3\n",
      "shield damaged, playing get ready.mp3\n",
      "RAS now son't u have a fight to finish.mp3\n",
      "RAS now son't u have a fight to finish.mp3\n",
      "RAS now son't u have a fight to finish.mp3\n",
      "RAS now son't u have a fight to finish.mp3\n",
      "shield damaged, playing chief lookout.mp3\n",
      "RAS now son't u have a fight to finish.mp3\n",
      "weapon change detected, playing you need a weapon.mp3\n",
      "kill feed detected, playing no match for you.mp3\n",
      "RAS now son't u have a fight to finish.mp3\n",
      "kill feed detected, playing no match for you.mp3\n",
      "RAS now son't u have a fight to finish.mp3\n",
      "enemies in front, playing john the mc will stop u.mp3\n",
      "shield restored, playing r u alright dunno what to say.mp3\n",
      "enemies in front, playing last of the squad now kill target.mp3\n",
      "RAS now son't u have a fight to finish.mp3\n",
      "RAS now son't u have a fight to finish.mp3\n",
      "RAS now son't u have a fight to finish.mp3\n",
      "kill feed detected, playing no match for you.mp3\n",
      "enemies in front, playing us and the target go get them.mp3\n",
      "enemies behind you, playing at your 6.mp3\n",
      "kill feed detected, playing no match for you.mp3\n",
      "enemies in front, playing john the mc will stop u.mp3\n",
      "RAS now son't u have a fight to finish.mp3\n",
      "kill feed detected, playing no match for you.mp3\n",
      "RAS now son't u have a fight to finish.mp3\n",
      "shield damaged, playing get ready.mp3\n",
      "kill feed detected, playing no match for you.mp3\n",
      "kill feed detected, playing no match for you.mp3\n",
      "shield damaged, playing watch out.mp3\n",
      "enemies in front, playing wait theres smt else.mp3\n",
      "enemies in front, playing john the mc will stop u.mp3\n",
      "shield restored, playing so what now chief.mp3\n",
      "RAS now son't u have a fight to finish.mp3\n",
      "shield restored, playing so what now chief.mp3\n",
      "kill feed detected, playing no match for you.mp3\n",
      "kill feed detected, playing no match for you.mp3\n",
      "RAS now son't u have a fight to finish.mp3\n",
      "kill feed detected, playing no match for you.mp3\n",
      "RAS now son't u have a fight to finish.mp3\n",
      "RAS now son't u have a fight to finish.mp3\n",
      "RAS now son't u have a fight to finish.mp3\n",
      "kill feed detected, playing no match for you.mp3\n"
     ]
    },
    {
     "ename": "KeyboardInterrupt",
     "evalue": "",
     "output_type": "error",
     "traceback": [
      "\u001b[1;31m---------------------------------------------------------------------------\u001b[0m",
      "\u001b[1;31mKeyboardInterrupt\u001b[0m                         Traceback (most recent call last)",
      "\u001b[1;32mc:\\Users\\valen\\Desktop\\code\\random stuff\\halo\\Cortana\\cortana.ipynb Cell 3'\u001b[0m in \u001b[0;36m<cell line: 1>\u001b[1;34m()\u001b[0m\n\u001b[1;32m----> <a href='vscode-notebook-cell:/c%3A/Users/valen/Desktop/code/random%20stuff/halo/Cortana/cortana.ipynb#ch0000002?line=0'>1</a>\u001b[0m cortana(df, decision\u001b[39m=\u001b[39;49m\u001b[39mTrue\u001b[39;49;00m, debug\u001b[39m=\u001b[39;49m\u001b[39mFalse\u001b[39;49;00m, skip\u001b[39m=\u001b[39;49m\u001b[39mFalse\u001b[39;49;00m, save_images\u001b[39m=\u001b[39;49m\u001b[39mTrue\u001b[39;49;00m)\n",
      "File \u001b[1;32mc:\\Users\\valen\\Desktop\\code\\random stuff\\halo\\Cortana\\utils.py:418\u001b[0m, in \u001b[0;36mcortana\u001b[1;34m(df, decision, debug, skip, save_images)\u001b[0m\n\u001b[0;32m    415\u001b[0m i \u001b[39m=\u001b[39m \u001b[39m1\u001b[39m\n\u001b[0;32m    416\u001b[0m last_callout \u001b[39m=\u001b[39m time\u001b[39m.\u001b[39mtime()\n\u001b[1;32m--> 418\u001b[0m \u001b[39mwhile\u001b[39;00m \u001b[39mTrue\u001b[39;00m:\n\u001b[0;32m    419\u001b[0m     time_elapsed \u001b[39m=\u001b[39m time\u001b[39m.\u001b[39mtime()\u001b[39m-\u001b[39mprev\n\u001b[0;32m    420\u001b[0m     \u001b[39mif\u001b[39;00m time_elapsed \u001b[39m>\u001b[39m \u001b[39m1\u001b[39m:\n",
      "\u001b[1;31mKeyboardInterrupt\u001b[0m: "
     ]
    }
   ],
   "source": [
    "cortana(df, decision=True, debug=False, skip=False, save_images=True)"
   ]
  },
  {
   "cell_type": "code",
   "execution_count": 5,
   "metadata": {},
   "outputs": [
    {
     "data": {
      "text/html": [
       "<div>\n",
       "<style scoped>\n",
       "    .dataframe tbody tr th:only-of-type {\n",
       "        vertical-align: middle;\n",
       "    }\n",
       "\n",
       "    .dataframe tbody tr th {\n",
       "        vertical-align: top;\n",
       "    }\n",
       "\n",
       "    .dataframe thead th {\n",
       "        text-align: right;\n",
       "    }\n",
       "</style>\n",
       "<table border=\"1\" class=\"dataframe\">\n",
       "  <thead>\n",
       "    <tr style=\"text-align: right;\">\n",
       "      <th></th>\n",
       "      <th>shield</th>\n",
       "      <th>health</th>\n",
       "      <th>kill_feed</th>\n",
       "      <th>ally_front</th>\n",
       "      <th>ally_left</th>\n",
       "      <th>ally_right</th>\n",
       "      <th>ally_behind</th>\n",
       "      <th>enemy_front</th>\n",
       "      <th>enemy_left</th>\n",
       "      <th>enemy_right</th>\n",
       "      <th>enemy_behind</th>\n",
       "      <th>main_weapon</th>\n",
       "      <th>secondary_weapon</th>\n",
       "    </tr>\n",
       "  </thead>\n",
       "  <tbody>\n",
       "    <tr>\n",
       "      <th>0</th>\n",
       "      <td>100</td>\n",
       "      <td>100</td>\n",
       "      <td>0</td>\n",
       "      <td>0</td>\n",
       "      <td>0</td>\n",
       "      <td>0</td>\n",
       "      <td>0</td>\n",
       "      <td>0</td>\n",
       "      <td>0</td>\n",
       "      <td>0</td>\n",
       "      <td>0</td>\n",
       "      <td>ar</td>\n",
       "      <td>sidekick</td>\n",
       "    </tr>\n",
       "    <tr>\n",
       "      <th>1</th>\n",
       "      <td>0.0</td>\n",
       "      <td>0.0</td>\n",
       "      <td>0</td>\n",
       "      <td>1</td>\n",
       "      <td>2</td>\n",
       "      <td>3</td>\n",
       "      <td>0</td>\n",
       "      <td>1</td>\n",
       "      <td>2</td>\n",
       "      <td>0</td>\n",
       "      <td>0</td>\n",
       "      <td>unknown</td>\n",
       "      <td>unknown</td>\n",
       "    </tr>\n",
       "    <tr>\n",
       "      <th>2</th>\n",
       "      <td>100.0</td>\n",
       "      <td>100.0</td>\n",
       "      <td>0</td>\n",
       "      <td>1</td>\n",
       "      <td>2</td>\n",
       "      <td>1</td>\n",
       "      <td>0</td>\n",
       "      <td>0</td>\n",
       "      <td>0</td>\n",
       "      <td>0</td>\n",
       "      <td>0</td>\n",
       "      <td>unknown</td>\n",
       "      <td>sidekick</td>\n",
       "    </tr>\n",
       "    <tr>\n",
       "      <th>3</th>\n",
       "      <td>100.0</td>\n",
       "      <td>100.0</td>\n",
       "      <td>0</td>\n",
       "      <td>0</td>\n",
       "      <td>0</td>\n",
       "      <td>2</td>\n",
       "      <td>1</td>\n",
       "      <td>0</td>\n",
       "      <td>1</td>\n",
       "      <td>4</td>\n",
       "      <td>3</td>\n",
       "      <td>ar</td>\n",
       "      <td>sidekick</td>\n",
       "    </tr>\n",
       "    <tr>\n",
       "      <th>4</th>\n",
       "      <td>77.317073</td>\n",
       "      <td>14.0</td>\n",
       "      <td>0</td>\n",
       "      <td>0</td>\n",
       "      <td>0</td>\n",
       "      <td>1</td>\n",
       "      <td>2</td>\n",
       "      <td>0</td>\n",
       "      <td>0</td>\n",
       "      <td>0</td>\n",
       "      <td>0</td>\n",
       "      <td>unknown</td>\n",
       "      <td>unknown</td>\n",
       "    </tr>\n",
       "    <tr>\n",
       "      <th>...</th>\n",
       "      <td>...</td>\n",
       "      <td>...</td>\n",
       "      <td>...</td>\n",
       "      <td>...</td>\n",
       "      <td>...</td>\n",
       "      <td>...</td>\n",
       "      <td>...</td>\n",
       "      <td>...</td>\n",
       "      <td>...</td>\n",
       "      <td>...</td>\n",
       "      <td>...</td>\n",
       "      <td>...</td>\n",
       "      <td>...</td>\n",
       "    </tr>\n",
       "    <tr>\n",
       "      <th>809</th>\n",
       "      <td>0.0</td>\n",
       "      <td>0.0</td>\n",
       "      <td>0</td>\n",
       "      <td>0</td>\n",
       "      <td>0</td>\n",
       "      <td>0</td>\n",
       "      <td>0</td>\n",
       "      <td>0</td>\n",
       "      <td>0</td>\n",
       "      <td>0</td>\n",
       "      <td>0</td>\n",
       "      <td>unknown</td>\n",
       "      <td>unknown</td>\n",
       "    </tr>\n",
       "    <tr>\n",
       "      <th>810</th>\n",
       "      <td>0.0</td>\n",
       "      <td>14.8</td>\n",
       "      <td>0</td>\n",
       "      <td>0</td>\n",
       "      <td>0</td>\n",
       "      <td>0</td>\n",
       "      <td>0</td>\n",
       "      <td>0</td>\n",
       "      <td>0</td>\n",
       "      <td>0</td>\n",
       "      <td>0</td>\n",
       "      <td>unknown</td>\n",
       "      <td>unknown</td>\n",
       "    </tr>\n",
       "    <tr>\n",
       "      <th>811</th>\n",
       "      <td>0.0</td>\n",
       "      <td>99.6</td>\n",
       "      <td>0</td>\n",
       "      <td>0</td>\n",
       "      <td>0</td>\n",
       "      <td>0</td>\n",
       "      <td>0</td>\n",
       "      <td>0</td>\n",
       "      <td>0</td>\n",
       "      <td>0</td>\n",
       "      <td>0</td>\n",
       "      <td>unknown</td>\n",
       "      <td>unknown</td>\n",
       "    </tr>\n",
       "    <tr>\n",
       "      <th>812</th>\n",
       "      <td>0.0</td>\n",
       "      <td>100.0</td>\n",
       "      <td>0</td>\n",
       "      <td>0</td>\n",
       "      <td>0</td>\n",
       "      <td>0</td>\n",
       "      <td>0</td>\n",
       "      <td>0</td>\n",
       "      <td>0</td>\n",
       "      <td>0</td>\n",
       "      <td>0</td>\n",
       "      <td>unknown</td>\n",
       "      <td>unknown</td>\n",
       "    </tr>\n",
       "    <tr>\n",
       "      <th>813</th>\n",
       "      <td>0.0</td>\n",
       "      <td>89.6</td>\n",
       "      <td>0</td>\n",
       "      <td>0</td>\n",
       "      <td>0</td>\n",
       "      <td>0</td>\n",
       "      <td>0</td>\n",
       "      <td>0</td>\n",
       "      <td>0</td>\n",
       "      <td>0</td>\n",
       "      <td>0</td>\n",
       "      <td>unknown</td>\n",
       "      <td>unknown</td>\n",
       "    </tr>\n",
       "  </tbody>\n",
       "</table>\n",
       "<p>814 rows × 13 columns</p>\n",
       "</div>"
      ],
      "text/plain": [
       "        shield health kill_feed ally_front ally_left ally_right ally_behind  \\\n",
       "0          100    100         0          0         0          0           0   \n",
       "1          0.0    0.0         0          1         2          3           0   \n",
       "2        100.0  100.0         0          1         2          1           0   \n",
       "3        100.0  100.0         0          0         0          2           1   \n",
       "4    77.317073   14.0         0          0         0          1           2   \n",
       "..         ...    ...       ...        ...       ...        ...         ...   \n",
       "809        0.0    0.0         0          0         0          0           0   \n",
       "810        0.0   14.8         0          0         0          0           0   \n",
       "811        0.0   99.6         0          0         0          0           0   \n",
       "812        0.0  100.0         0          0         0          0           0   \n",
       "813        0.0   89.6         0          0         0          0           0   \n",
       "\n",
       "    enemy_front enemy_left enemy_right enemy_behind main_weapon  \\\n",
       "0             0          0           0            0          ar   \n",
       "1             1          2           0            0     unknown   \n",
       "2             0          0           0            0     unknown   \n",
       "3             0          1           4            3          ar   \n",
       "4             0          0           0            0     unknown   \n",
       "..          ...        ...         ...          ...         ...   \n",
       "809           0          0           0            0     unknown   \n",
       "810           0          0           0            0     unknown   \n",
       "811           0          0           0            0     unknown   \n",
       "812           0          0           0            0     unknown   \n",
       "813           0          0           0            0     unknown   \n",
       "\n",
       "    secondary_weapon  \n",
       "0           sidekick  \n",
       "1            unknown  \n",
       "2           sidekick  \n",
       "3           sidekick  \n",
       "4            unknown  \n",
       "..               ...  \n",
       "809          unknown  \n",
       "810          unknown  \n",
       "811          unknown  \n",
       "812          unknown  \n",
       "813          unknown  \n",
       "\n",
       "[814 rows x 13 columns]"
      ]
     },
     "execution_count": 5,
     "metadata": {},
     "output_type": "execute_result"
    }
   ],
   "source": [
    "df"
   ]
  },
  {
   "cell_type": "code",
   "execution_count": 6,
   "metadata": {},
   "outputs": [
    {
     "data": {
      "application/vnd.plotly.v1+json": {
       "config": {
        "plotlyServerURL": "https://plot.ly"
       },
       "data": [
        {
         "hovertemplate": "index=%{x}<br>shield=%{y}<extra></extra>",
         "legendgroup": "",
         "line": {
          "color": "#636efa",
          "dash": "solid"
         },
         "marker": {
          "symbol": "circle"
         },
         "mode": "lines",
         "name": "",
         "orientation": "h",
         "showlegend": false,
         "type": "scatter",
         "x": [
          0,
          1,
          2,
          3,
          4,
          5,
          6,
          7,
          8,
          9,
          10,
          11,
          12,
          13,
          14,
          15,
          16,
          17,
          18,
          19,
          20,
          21,
          22,
          23,
          24,
          25,
          26,
          27,
          28,
          29,
          30,
          31,
          32,
          33,
          34,
          35,
          36,
          37,
          38,
          39,
          40,
          41,
          42,
          43,
          44,
          45,
          46,
          47,
          48,
          49,
          50,
          51,
          52,
          53,
          54,
          55,
          56,
          57,
          58,
          59,
          60,
          61,
          62,
          63,
          64,
          65,
          66,
          67,
          68,
          69,
          70,
          71,
          72,
          73,
          74,
          75,
          76,
          77,
          78,
          79,
          80,
          81,
          82,
          83,
          84,
          85,
          86,
          87,
          88,
          89,
          90,
          91,
          92,
          93,
          94,
          95,
          96,
          97,
          98,
          99,
          100,
          101,
          102,
          103,
          104,
          105,
          106,
          107,
          108,
          109,
          110,
          111,
          112,
          113,
          114,
          115,
          116,
          117,
          118,
          119,
          120,
          121,
          122,
          123,
          124,
          125,
          126,
          127,
          128,
          129,
          130,
          131,
          132,
          133,
          134,
          135,
          136,
          137,
          138,
          139,
          140,
          141,
          142,
          143,
          144,
          145,
          146,
          147,
          148,
          149,
          150,
          151,
          152,
          153,
          154,
          155,
          156,
          157,
          158,
          159,
          160,
          161,
          162,
          163,
          164,
          165,
          166,
          167,
          168,
          169,
          170,
          171,
          172,
          173,
          174,
          175,
          176,
          177,
          178,
          179,
          180,
          181,
          182,
          183,
          184,
          185,
          186,
          187,
          188,
          189,
          190,
          191,
          192,
          193,
          194,
          195,
          196,
          197,
          198,
          199,
          200,
          201,
          202,
          203,
          204,
          205,
          206,
          207,
          208,
          209,
          210,
          211,
          212,
          213,
          214,
          215,
          216,
          217,
          218,
          219,
          220,
          221,
          222,
          223,
          224,
          225,
          226,
          227,
          228,
          229,
          230,
          231,
          232,
          233,
          234,
          235,
          236,
          237,
          238,
          239,
          240,
          241,
          242,
          243,
          244,
          245,
          246,
          247,
          248,
          249,
          250,
          251,
          252,
          253,
          254,
          255,
          256,
          257,
          258,
          259,
          260,
          261,
          262,
          263,
          264,
          265,
          266,
          267,
          268,
          269,
          270,
          271,
          272,
          273,
          274,
          275,
          276,
          277,
          278,
          279,
          280,
          281,
          282,
          283,
          284,
          285,
          286,
          287,
          288,
          289,
          290,
          291,
          292,
          293,
          294,
          295,
          296,
          297,
          298,
          299,
          300,
          301,
          302,
          303,
          304,
          305,
          306,
          307,
          308,
          309,
          310,
          311,
          312,
          313,
          314,
          315,
          316,
          317,
          318,
          319,
          320,
          321,
          322,
          323,
          324,
          325,
          326,
          327,
          328,
          329,
          330,
          331,
          332,
          333,
          334,
          335,
          336,
          337,
          338,
          339,
          340,
          341,
          342,
          343,
          344,
          345,
          346,
          347,
          348,
          349,
          350,
          351,
          352,
          353,
          354,
          355,
          356,
          357,
          358,
          359,
          360,
          361,
          362,
          363,
          364,
          365,
          366,
          367,
          368,
          369,
          370,
          371,
          372,
          373,
          374,
          375,
          376,
          377,
          378,
          379,
          380,
          381,
          382,
          383,
          384,
          385,
          386,
          387,
          388,
          389,
          390,
          391,
          392,
          393,
          394,
          395,
          396,
          397,
          398,
          399,
          400,
          401,
          402,
          403,
          404,
          405,
          406,
          407,
          408,
          409,
          410,
          411,
          412,
          413,
          414,
          415,
          416,
          417,
          418,
          419,
          420,
          421,
          422,
          423,
          424,
          425,
          426,
          427,
          428,
          429,
          430,
          431,
          432,
          433,
          434,
          435,
          436,
          437,
          438,
          439,
          440,
          441,
          442,
          443,
          444,
          445,
          446,
          447,
          448,
          449,
          450,
          451,
          452,
          453,
          454,
          455,
          456,
          457,
          458,
          459,
          460,
          461,
          462,
          463,
          464,
          465,
          466,
          467,
          468,
          469,
          470,
          471,
          472,
          473,
          474,
          475,
          476,
          477,
          478,
          479,
          480,
          481,
          482,
          483,
          484,
          485,
          486,
          487,
          488,
          489,
          490,
          491,
          492,
          493,
          494,
          495,
          496,
          497,
          498,
          499,
          500,
          501,
          502,
          503,
          504,
          505,
          506,
          507,
          508,
          509,
          510,
          511,
          512,
          513,
          514,
          515,
          516,
          517,
          518,
          519,
          520,
          521,
          522,
          523,
          524,
          525,
          526,
          527,
          528,
          529,
          530,
          531,
          532,
          533,
          534,
          535,
          536,
          537,
          538,
          539,
          540,
          541,
          542,
          543,
          544,
          545,
          546,
          547,
          548,
          549,
          550,
          551,
          552,
          553,
          554,
          555,
          556,
          557,
          558,
          559,
          560,
          561,
          562,
          563,
          564,
          565,
          566,
          567,
          568,
          569,
          570,
          571,
          572,
          573,
          574,
          575,
          576,
          577,
          578,
          579,
          580,
          581,
          582,
          583,
          584,
          585,
          586,
          587,
          588,
          589,
          590,
          591,
          592,
          593,
          594,
          595,
          596,
          597,
          598,
          599,
          600,
          601,
          602,
          603,
          604,
          605,
          606,
          607,
          608,
          609,
          610,
          611,
          612,
          613,
          614,
          615,
          616,
          617,
          618,
          619,
          620,
          621,
          622,
          623,
          624,
          625,
          626,
          627,
          628,
          629,
          630,
          631,
          632,
          633,
          634,
          635,
          636,
          637,
          638,
          639,
          640,
          641,
          642,
          643,
          644,
          645,
          646,
          647,
          648,
          649,
          650,
          651,
          652,
          653,
          654,
          655,
          656,
          657,
          658,
          659,
          660,
          661,
          662,
          663,
          664,
          665,
          666,
          667,
          668,
          669,
          670,
          671,
          672,
          673,
          674,
          675,
          676,
          677,
          678,
          679,
          680,
          681,
          682,
          683,
          684,
          685,
          686,
          687,
          688,
          689,
          690,
          691,
          692,
          693,
          694,
          695,
          696,
          697,
          698,
          699,
          700,
          701,
          702,
          703,
          704,
          705,
          706,
          707,
          708,
          709,
          710,
          711,
          712,
          713,
          714,
          715,
          716,
          717,
          718,
          719,
          720,
          721,
          722,
          723,
          724,
          725,
          726,
          727,
          728,
          729,
          730,
          731,
          732,
          733,
          734,
          735,
          736,
          737,
          738,
          739,
          740,
          741,
          742,
          743,
          744,
          745,
          746,
          747,
          748,
          749,
          750,
          751,
          752,
          753,
          754,
          755,
          756,
          757,
          758,
          759,
          760,
          761,
          762,
          763,
          764,
          765,
          766,
          767,
          768,
          769,
          770,
          771,
          772,
          773,
          774,
          775,
          776,
          777,
          778,
          779,
          780,
          781,
          782,
          783,
          784,
          785,
          786,
          787,
          788,
          789,
          790,
          791,
          792,
          793,
          794,
          795,
          796,
          797,
          798,
          799,
          800,
          801,
          802,
          803,
          804,
          805,
          806,
          807,
          808,
          809,
          810,
          811,
          812,
          813
         ],
         "xaxis": "x",
         "y": [
          100,
          0,
          100,
          100,
          77.3170731707317,
          100,
          100,
          100,
          100,
          100,
          100,
          100,
          100,
          100,
          100,
          100,
          100,
          100,
          100,
          100,
          100,
          100,
          81.21951219512195,
          74.63414634146342,
          32.926829268292686,
          74.63414634146342,
          33.170731707317074,
          0.7317073170731708,
          0.7317073170731708,
          0.4878048780487805,
          0.7317073170731708,
          49.51219512195122,
          77.8048780487805,
          35.853658536585364,
          35.609756097560975,
          35.853658536585364,
          35.609756097560975,
          35.853658536585364,
          49.02439024390244,
          100,
          100,
          100,
          100,
          100,
          100,
          57.80487804878048,
          0.975609756097561,
          0.7317073170731708,
          0.7317073170731708,
          0.7317073170731708,
          0.7317073170731708,
          39.268292682926834,
          92.6829268292683,
          100,
          52.926829268292686,
          53.170731707317074,
          52.926829268292686,
          53.41463414634147,
          52.926829268292686,
          91.21951219512195,
          100,
          100,
          100,
          100,
          100,
          100,
          100,
          100,
          100,
          82.1951219512195,
          100,
          100,
          100,
          100,
          100,
          100,
          8.292682926829269,
          0,
          0,
          0,
          0,
          0,
          0,
          17.560975609756095,
          24.634146341463413,
          16.82926829268293,
          0,
          0,
          1.951219512195122,
          1.951219512195122,
          1.951219512195122,
          1.951219512195122,
          1.951219512195122,
          0,
          0,
          1.951219512195122,
          1.951219512195122,
          1.951219512195122,
          1.951219512195122,
          1.951219512195122,
          1.951219512195122,
          1.951219512195122,
          1.951219512195122,
          0,
          0,
          0,
          0,
          0,
          0,
          0,
          0,
          0,
          0,
          0,
          0,
          0,
          0,
          0,
          0,
          100,
          100,
          100,
          100,
          100,
          100,
          100,
          100,
          67.07317073170732,
          34.390243902439025,
          16.82926829268293,
          17.073170731707318,
          17.073170731707318,
          17.073170731707318,
          61.46341463414634,
          100,
          100,
          100,
          100,
          100,
          100,
          84.6341463414634,
          100,
          100,
          100,
          100,
          100,
          100,
          100,
          100,
          100,
          100,
          100,
          100,
          100,
          100,
          100,
          100,
          100,
          77.5609756097561,
          100,
          76.58536585365854,
          77.8048780487805,
          84.14634146341463,
          77.5609756097561,
          100,
          100,
          92.19512195121952,
          98.78048780487805,
          84.6341463414634,
          100,
          100,
          100,
          100,
          100,
          100,
          100,
          100,
          100,
          100,
          94.6341463414634,
          94.6341463414634,
          88.78048780487805,
          100,
          100,
          100,
          100,
          100,
          100,
          86.09756097560975,
          85.85365853658537,
          18.78048780487805,
          2.9268292682926833,
          100,
          100,
          100,
          100,
          100,
          100,
          77.8048780487805,
          100,
          100,
          100,
          82.68292682926828,
          67.07317073170732,
          67.07317073170732,
          67.31707317073172,
          67.07317073170732,
          70.97560975609755,
          100,
          100,
          98.29268292682927,
          99.26829268292683,
          99.02439024390245,
          98.04878048780488,
          98.29268292682927,
          98.53658536585365,
          98.53658536585365,
          99.02439024390245,
          98.53658536585365,
          0,
          0,
          98.78048780487805,
          0,
          0,
          98.78048780487805,
          98.53658536585365,
          98.53658536585365,
          0,
          98.53658536585365,
          98.53658536585365,
          98.78048780487805,
          98.53658536585365,
          98.53658536585365,
          98.29268292682927,
          98.04878048780488,
          97.07317073170731,
          97.80487804878048,
          97.3170731707317,
          97.5609756097561,
          97.07317073170731,
          100,
          100,
          87.5609756097561,
          35.853658536585364,
          35.609756097560975,
          1.4634146341463417,
          0.4878048780487805,
          24.146341463414632,
          100,
          100,
          100,
          100,
          100,
          100,
          100,
          100,
          100,
          100,
          100,
          100,
          100,
          100,
          100,
          100,
          65.85365853658537,
          65.3658536585366,
          65.3658536585366,
          65.60975609756098,
          65.60975609756098,
          77.5609756097561,
          100,
          100,
          100,
          100,
          100,
          100,
          100,
          100,
          100,
          100,
          100,
          79.75609756097562,
          79.51219512195122,
          79.75609756097562,
          79.51219512195122,
          69.02439024390243,
          51.21951219512195,
          51.21951219512195,
          51.951219512195124,
          51.21951219512195,
          19.024390243902438,
          0.975609756097561,
          0.4878048780487805,
          0.7317073170731708,
          46.09756097560976,
          98.29268292682927,
          15.609756097560975,
          15.365853658536585,
          15.609756097560975,
          19.26829268292683,
          0,
          0,
          100,
          100,
          98.78048780487805,
          100,
          77.8048780487805,
          100,
          100,
          100,
          100,
          100,
          100,
          100,
          100,
          89.75609756097562,
          99.7560975609756,
          100,
          82.92682926829268,
          69.26829268292683,
          95.1219512195122,
          95.1219512195122,
          85.85365853658537,
          97.3170731707317,
          100,
          100,
          92.4390243902439,
          25.365853658536587,
          0.7317073170731708,
          0.7317073170731708,
          0.4878048780487805,
          0.975609756097561,
          40.487804878048784,
          91.70731707317074,
          100,
          84.39024390243902,
          82.92682926829268,
          66.82926829268293,
          67.07317073170732,
          66.82926829268293,
          67.07317073170732,
          100,
          100,
          100,
          100,
          100,
          100,
          100,
          100,
          100,
          100,
          67.31707317073172,
          1.4634146341463417,
          83.41463414634146,
          59.512195121951216,
          1.951219512195122,
          86.82926829268293,
          100,
          100,
          100,
          100,
          100,
          100,
          100,
          78.04878048780488,
          100,
          100,
          100,
          100,
          100,
          100,
          100,
          100,
          100,
          100,
          100,
          100,
          100,
          100,
          100,
          100,
          100,
          100,
          100,
          100,
          100,
          66.82926829268293,
          1.2195121951219512,
          0.7317073170731708,
          100,
          100,
          0,
          70,
          61.951219512195124,
          66.09756097560975,
          68.53658536585367,
          100,
          100,
          100,
          100,
          100,
          41.951219512195124,
          42.19512195121951,
          32.6829268292683,
          1.2195121951219512,
          0.975609756097561,
          0.7317073170731708,
          0.7317073170731708,
          0.7317073170731708,
          0.7317073170731708,
          0.7317073170731708,
          80.73170731707317,
          100,
          100,
          100,
          100,
          100,
          100,
          100,
          100,
          100,
          100,
          34.146341463414636,
          34.390243902439025,
          4.634146341463414,
          0,
          100,
          100,
          100,
          100,
          100,
          100,
          100,
          100,
          100,
          67.5609756097561,
          100,
          0.4878048780487805,
          100,
          100,
          100,
          100,
          100,
          100,
          100,
          100,
          100,
          100,
          100,
          100,
          100,
          100,
          76.34146341463415,
          68.78048780487805,
          18.536585365853657,
          0.7317073170731708,
          100,
          100,
          100,
          100,
          100,
          100,
          100,
          100,
          100,
          0,
          0,
          0,
          0,
          0,
          0,
          55.1219512195122,
          51.951219512195124,
          59.512195121951216,
          22.926829268292686,
          0,
          0,
          1.951219512195122,
          1.951219512195122,
          1.951219512195122,
          1.951219512195122,
          1.951219512195122,
          0,
          0,
          0,
          0,
          1.951219512195122,
          1.951219512195122,
          1.951219512195122,
          1.951219512195122,
          1.951219512195122,
          1.951219512195122,
          1.951219512195122,
          1.951219512195122,
          1.951219512195122,
          1.951219512195122,
          1.951219512195122,
          1.951219512195122,
          1.951219512195122,
          1.951219512195122,
          1.951219512195122,
          1.951219512195122,
          1.951219512195122,
          1.951219512195122,
          1.951219512195122,
          1.951219512195122,
          1.951219512195122,
          1.951219512195122,
          0,
          0,
          0,
          1.2195121951219512,
          0,
          0,
          0,
          0,
          0,
          0,
          0,
          0,
          0,
          0,
          0,
          0,
          100,
          100,
          100,
          100,
          100,
          100,
          100,
          82.92682926829268,
          82.68292682926828,
          1.2195121951219512,
          0.7317073170731708,
          0.7317073170731708,
          100,
          100,
          100,
          77.5609756097561,
          100,
          100,
          100,
          100,
          77.8048780487805,
          75.1219512195122,
          66.82926829268293,
          2.4390243902439024,
          24.390243902439025,
          0,
          0,
          100,
          100,
          100,
          100,
          100,
          100,
          100,
          84.39024390243902,
          100,
          100,
          100,
          100,
          100,
          100,
          33.170731707317074,
          32.6829268292683,
          32.926829268292686,
          32.926829268292686,
          47.80487804878049,
          99.7560975609756,
          100,
          100,
          100,
          100,
          100,
          100,
          100,
          92.19512195121952,
          92.6829268292683,
          3.902439024390244,
          66.82926829268293,
          0,
          0,
          0,
          0,
          0,
          0,
          0,
          100,
          100,
          100,
          100,
          100,
          100,
          68.53658536585367,
          69.02439024390243,
          68.53658536585367,
          68.78048780487805,
          68.53658536585367,
          100,
          100,
          100,
          100,
          100,
          100,
          100,
          100,
          100,
          100,
          100,
          100,
          100,
          100,
          100,
          100,
          100,
          100,
          100,
          100,
          77.3170731707317,
          43.65853658536585,
          43.90243902439025,
          43.65853658536585,
          68.29268292682927,
          100,
          85.85365853658537,
          57.56097560975609,
          40.487804878048784,
          0.975609756097561,
          0.7317073170731708,
          0.7317073170731708,
          0.7317073170731708,
          0.7317073170731708,
          0.7317073170731708,
          0.7317073170731708,
          0.7317073170731708,
          0.7317073170731708,
          50.97560975609756,
          100,
          49.75609756097561,
          49.75609756097561,
          50,
          84.8780487804878,
          100,
          100,
          100,
          92.6829268292683,
          66.82926829268293,
          0.4878048780487805,
          100,
          100,
          100,
          100,
          100,
          100,
          100,
          100,
          100,
          100,
          100,
          92.19512195121952,
          92.4390243902439,
          92.19512195121952,
          92.19512195121952,
          100,
          100,
          77.5609756097561,
          77.3170731707317,
          77.8048780487805,
          77.8048780487805,
          77.5609756097561,
          100,
          100,
          100,
          100,
          67.31707317073172,
          27.80487804878049,
          100,
          0,
          3.902439024390244,
          11.219512195121952,
          0,
          100,
          0,
          100,
          100,
          100,
          100,
          100,
          78.29268292682927,
          75.36585365853658,
          71.70731707317073,
          71.95121951219512,
          71.70731707317073,
          71.95121951219512,
          78.04878048780488,
          100,
          100,
          100,
          100,
          100,
          100,
          100,
          100,
          100,
          100,
          100,
          100,
          100,
          100,
          100,
          100,
          100,
          100,
          100,
          100,
          100,
          100,
          86.34146341463415,
          15.365853658536585,
          100,
          100,
          100,
          100,
          100,
          100,
          100,
          100,
          100,
          67.31707317073172,
          1.2195121951219512,
          0.7317073170731708,
          0.7317073170731708,
          100,
          0,
          0,
          100,
          100,
          100,
          100,
          100,
          76.58536585365854,
          77.3170731707317,
          100,
          100,
          100,
          100,
          100,
          100,
          100,
          0.975609756097561,
          0.4878048780487805,
          0.975609756097561,
          0.24390243902439024,
          11.707317073170733,
          62.68292682926829,
          100,
          100,
          100,
          100,
          66.82926829268293,
          15.853658536585366,
          0.7317073170731708,
          0.4878048780487805,
          0.975609756097561,
          0.7317073170731708,
          6.097560975609756,
          58.536585365853654,
          100,
          100,
          100,
          100,
          100,
          100,
          100,
          100,
          68.78048780487805,
          35.853658536585364,
          35.609756097560975,
          35.853658536585364,
          35.853658536585364,
          64.8780487804878,
          90.97560975609757,
          70,
          1.707317073170732,
          0.7317073170731708,
          0.7317073170731708,
          0.7317073170731708,
          0.7317073170731708,
          18.78048780487805,
          100,
          100,
          100,
          100,
          100,
          100,
          76.82926829268293,
          100,
          100,
          100,
          100,
          100,
          74.14634146341463,
          0,
          0,
          0,
          0,
          0,
          0,
          0,
          0,
          0,
          0
         ],
         "yaxis": "y"
        }
       ],
       "layout": {
        "legend": {
         "tracegroupgap": 0
        },
        "template": {
         "data": {
          "bar": [
           {
            "error_x": {
             "color": "#2a3f5f"
            },
            "error_y": {
             "color": "#2a3f5f"
            },
            "marker": {
             "line": {
              "color": "#E5ECF6",
              "width": 0.5
             },
             "pattern": {
              "fillmode": "overlay",
              "size": 10,
              "solidity": 0.2
             }
            },
            "type": "bar"
           }
          ],
          "barpolar": [
           {
            "marker": {
             "line": {
              "color": "#E5ECF6",
              "width": 0.5
             },
             "pattern": {
              "fillmode": "overlay",
              "size": 10,
              "solidity": 0.2
             }
            },
            "type": "barpolar"
           }
          ],
          "carpet": [
           {
            "aaxis": {
             "endlinecolor": "#2a3f5f",
             "gridcolor": "white",
             "linecolor": "white",
             "minorgridcolor": "white",
             "startlinecolor": "#2a3f5f"
            },
            "baxis": {
             "endlinecolor": "#2a3f5f",
             "gridcolor": "white",
             "linecolor": "white",
             "minorgridcolor": "white",
             "startlinecolor": "#2a3f5f"
            },
            "type": "carpet"
           }
          ],
          "choropleth": [
           {
            "colorbar": {
             "outlinewidth": 0,
             "ticks": ""
            },
            "type": "choropleth"
           }
          ],
          "contour": [
           {
            "colorbar": {
             "outlinewidth": 0,
             "ticks": ""
            },
            "colorscale": [
             [
              0,
              "#0d0887"
             ],
             [
              0.1111111111111111,
              "#46039f"
             ],
             [
              0.2222222222222222,
              "#7201a8"
             ],
             [
              0.3333333333333333,
              "#9c179e"
             ],
             [
              0.4444444444444444,
              "#bd3786"
             ],
             [
              0.5555555555555556,
              "#d8576b"
             ],
             [
              0.6666666666666666,
              "#ed7953"
             ],
             [
              0.7777777777777778,
              "#fb9f3a"
             ],
             [
              0.8888888888888888,
              "#fdca26"
             ],
             [
              1,
              "#f0f921"
             ]
            ],
            "type": "contour"
           }
          ],
          "contourcarpet": [
           {
            "colorbar": {
             "outlinewidth": 0,
             "ticks": ""
            },
            "type": "contourcarpet"
           }
          ],
          "heatmap": [
           {
            "colorbar": {
             "outlinewidth": 0,
             "ticks": ""
            },
            "colorscale": [
             [
              0,
              "#0d0887"
             ],
             [
              0.1111111111111111,
              "#46039f"
             ],
             [
              0.2222222222222222,
              "#7201a8"
             ],
             [
              0.3333333333333333,
              "#9c179e"
             ],
             [
              0.4444444444444444,
              "#bd3786"
             ],
             [
              0.5555555555555556,
              "#d8576b"
             ],
             [
              0.6666666666666666,
              "#ed7953"
             ],
             [
              0.7777777777777778,
              "#fb9f3a"
             ],
             [
              0.8888888888888888,
              "#fdca26"
             ],
             [
              1,
              "#f0f921"
             ]
            ],
            "type": "heatmap"
           }
          ],
          "heatmapgl": [
           {
            "colorbar": {
             "outlinewidth": 0,
             "ticks": ""
            },
            "colorscale": [
             [
              0,
              "#0d0887"
             ],
             [
              0.1111111111111111,
              "#46039f"
             ],
             [
              0.2222222222222222,
              "#7201a8"
             ],
             [
              0.3333333333333333,
              "#9c179e"
             ],
             [
              0.4444444444444444,
              "#bd3786"
             ],
             [
              0.5555555555555556,
              "#d8576b"
             ],
             [
              0.6666666666666666,
              "#ed7953"
             ],
             [
              0.7777777777777778,
              "#fb9f3a"
             ],
             [
              0.8888888888888888,
              "#fdca26"
             ],
             [
              1,
              "#f0f921"
             ]
            ],
            "type": "heatmapgl"
           }
          ],
          "histogram": [
           {
            "marker": {
             "pattern": {
              "fillmode": "overlay",
              "size": 10,
              "solidity": 0.2
             }
            },
            "type": "histogram"
           }
          ],
          "histogram2d": [
           {
            "colorbar": {
             "outlinewidth": 0,
             "ticks": ""
            },
            "colorscale": [
             [
              0,
              "#0d0887"
             ],
             [
              0.1111111111111111,
              "#46039f"
             ],
             [
              0.2222222222222222,
              "#7201a8"
             ],
             [
              0.3333333333333333,
              "#9c179e"
             ],
             [
              0.4444444444444444,
              "#bd3786"
             ],
             [
              0.5555555555555556,
              "#d8576b"
             ],
             [
              0.6666666666666666,
              "#ed7953"
             ],
             [
              0.7777777777777778,
              "#fb9f3a"
             ],
             [
              0.8888888888888888,
              "#fdca26"
             ],
             [
              1,
              "#f0f921"
             ]
            ],
            "type": "histogram2d"
           }
          ],
          "histogram2dcontour": [
           {
            "colorbar": {
             "outlinewidth": 0,
             "ticks": ""
            },
            "colorscale": [
             [
              0,
              "#0d0887"
             ],
             [
              0.1111111111111111,
              "#46039f"
             ],
             [
              0.2222222222222222,
              "#7201a8"
             ],
             [
              0.3333333333333333,
              "#9c179e"
             ],
             [
              0.4444444444444444,
              "#bd3786"
             ],
             [
              0.5555555555555556,
              "#d8576b"
             ],
             [
              0.6666666666666666,
              "#ed7953"
             ],
             [
              0.7777777777777778,
              "#fb9f3a"
             ],
             [
              0.8888888888888888,
              "#fdca26"
             ],
             [
              1,
              "#f0f921"
             ]
            ],
            "type": "histogram2dcontour"
           }
          ],
          "mesh3d": [
           {
            "colorbar": {
             "outlinewidth": 0,
             "ticks": ""
            },
            "type": "mesh3d"
           }
          ],
          "parcoords": [
           {
            "line": {
             "colorbar": {
              "outlinewidth": 0,
              "ticks": ""
             }
            },
            "type": "parcoords"
           }
          ],
          "pie": [
           {
            "automargin": true,
            "type": "pie"
           }
          ],
          "scatter": [
           {
            "marker": {
             "colorbar": {
              "outlinewidth": 0,
              "ticks": ""
             }
            },
            "type": "scatter"
           }
          ],
          "scatter3d": [
           {
            "line": {
             "colorbar": {
              "outlinewidth": 0,
              "ticks": ""
             }
            },
            "marker": {
             "colorbar": {
              "outlinewidth": 0,
              "ticks": ""
             }
            },
            "type": "scatter3d"
           }
          ],
          "scattercarpet": [
           {
            "marker": {
             "colorbar": {
              "outlinewidth": 0,
              "ticks": ""
             }
            },
            "type": "scattercarpet"
           }
          ],
          "scattergeo": [
           {
            "marker": {
             "colorbar": {
              "outlinewidth": 0,
              "ticks": ""
             }
            },
            "type": "scattergeo"
           }
          ],
          "scattergl": [
           {
            "marker": {
             "colorbar": {
              "outlinewidth": 0,
              "ticks": ""
             }
            },
            "type": "scattergl"
           }
          ],
          "scattermapbox": [
           {
            "marker": {
             "colorbar": {
              "outlinewidth": 0,
              "ticks": ""
             }
            },
            "type": "scattermapbox"
           }
          ],
          "scatterpolar": [
           {
            "marker": {
             "colorbar": {
              "outlinewidth": 0,
              "ticks": ""
             }
            },
            "type": "scatterpolar"
           }
          ],
          "scatterpolargl": [
           {
            "marker": {
             "colorbar": {
              "outlinewidth": 0,
              "ticks": ""
             }
            },
            "type": "scatterpolargl"
           }
          ],
          "scatterternary": [
           {
            "marker": {
             "colorbar": {
              "outlinewidth": 0,
              "ticks": ""
             }
            },
            "type": "scatterternary"
           }
          ],
          "surface": [
           {
            "colorbar": {
             "outlinewidth": 0,
             "ticks": ""
            },
            "colorscale": [
             [
              0,
              "#0d0887"
             ],
             [
              0.1111111111111111,
              "#46039f"
             ],
             [
              0.2222222222222222,
              "#7201a8"
             ],
             [
              0.3333333333333333,
              "#9c179e"
             ],
             [
              0.4444444444444444,
              "#bd3786"
             ],
             [
              0.5555555555555556,
              "#d8576b"
             ],
             [
              0.6666666666666666,
              "#ed7953"
             ],
             [
              0.7777777777777778,
              "#fb9f3a"
             ],
             [
              0.8888888888888888,
              "#fdca26"
             ],
             [
              1,
              "#f0f921"
             ]
            ],
            "type": "surface"
           }
          ],
          "table": [
           {
            "cells": {
             "fill": {
              "color": "#EBF0F8"
             },
             "line": {
              "color": "white"
             }
            },
            "header": {
             "fill": {
              "color": "#C8D4E3"
             },
             "line": {
              "color": "white"
             }
            },
            "type": "table"
           }
          ]
         },
         "layout": {
          "annotationdefaults": {
           "arrowcolor": "#2a3f5f",
           "arrowhead": 0,
           "arrowwidth": 1
          },
          "autotypenumbers": "strict",
          "coloraxis": {
           "colorbar": {
            "outlinewidth": 0,
            "ticks": ""
           }
          },
          "colorscale": {
           "diverging": [
            [
             0,
             "#8e0152"
            ],
            [
             0.1,
             "#c51b7d"
            ],
            [
             0.2,
             "#de77ae"
            ],
            [
             0.3,
             "#f1b6da"
            ],
            [
             0.4,
             "#fde0ef"
            ],
            [
             0.5,
             "#f7f7f7"
            ],
            [
             0.6,
             "#e6f5d0"
            ],
            [
             0.7,
             "#b8e186"
            ],
            [
             0.8,
             "#7fbc41"
            ],
            [
             0.9,
             "#4d9221"
            ],
            [
             1,
             "#276419"
            ]
           ],
           "sequential": [
            [
             0,
             "#0d0887"
            ],
            [
             0.1111111111111111,
             "#46039f"
            ],
            [
             0.2222222222222222,
             "#7201a8"
            ],
            [
             0.3333333333333333,
             "#9c179e"
            ],
            [
             0.4444444444444444,
             "#bd3786"
            ],
            [
             0.5555555555555556,
             "#d8576b"
            ],
            [
             0.6666666666666666,
             "#ed7953"
            ],
            [
             0.7777777777777778,
             "#fb9f3a"
            ],
            [
             0.8888888888888888,
             "#fdca26"
            ],
            [
             1,
             "#f0f921"
            ]
           ],
           "sequentialminus": [
            [
             0,
             "#0d0887"
            ],
            [
             0.1111111111111111,
             "#46039f"
            ],
            [
             0.2222222222222222,
             "#7201a8"
            ],
            [
             0.3333333333333333,
             "#9c179e"
            ],
            [
             0.4444444444444444,
             "#bd3786"
            ],
            [
             0.5555555555555556,
             "#d8576b"
            ],
            [
             0.6666666666666666,
             "#ed7953"
            ],
            [
             0.7777777777777778,
             "#fb9f3a"
            ],
            [
             0.8888888888888888,
             "#fdca26"
            ],
            [
             1,
             "#f0f921"
            ]
           ]
          },
          "colorway": [
           "#636efa",
           "#EF553B",
           "#00cc96",
           "#ab63fa",
           "#FFA15A",
           "#19d3f3",
           "#FF6692",
           "#B6E880",
           "#FF97FF",
           "#FECB52"
          ],
          "font": {
           "color": "#2a3f5f"
          },
          "geo": {
           "bgcolor": "white",
           "lakecolor": "white",
           "landcolor": "#E5ECF6",
           "showlakes": true,
           "showland": true,
           "subunitcolor": "white"
          },
          "hoverlabel": {
           "align": "left"
          },
          "hovermode": "closest",
          "mapbox": {
           "style": "light"
          },
          "paper_bgcolor": "white",
          "plot_bgcolor": "#E5ECF6",
          "polar": {
           "angularaxis": {
            "gridcolor": "white",
            "linecolor": "white",
            "ticks": ""
           },
           "bgcolor": "#E5ECF6",
           "radialaxis": {
            "gridcolor": "white",
            "linecolor": "white",
            "ticks": ""
           }
          },
          "scene": {
           "xaxis": {
            "backgroundcolor": "#E5ECF6",
            "gridcolor": "white",
            "gridwidth": 2,
            "linecolor": "white",
            "showbackground": true,
            "ticks": "",
            "zerolinecolor": "white"
           },
           "yaxis": {
            "backgroundcolor": "#E5ECF6",
            "gridcolor": "white",
            "gridwidth": 2,
            "linecolor": "white",
            "showbackground": true,
            "ticks": "",
            "zerolinecolor": "white"
           },
           "zaxis": {
            "backgroundcolor": "#E5ECF6",
            "gridcolor": "white",
            "gridwidth": 2,
            "linecolor": "white",
            "showbackground": true,
            "ticks": "",
            "zerolinecolor": "white"
           }
          },
          "shapedefaults": {
           "line": {
            "color": "#2a3f5f"
           }
          },
          "ternary": {
           "aaxis": {
            "gridcolor": "white",
            "linecolor": "white",
            "ticks": ""
           },
           "baxis": {
            "gridcolor": "white",
            "linecolor": "white",
            "ticks": ""
           },
           "bgcolor": "#E5ECF6",
           "caxis": {
            "gridcolor": "white",
            "linecolor": "white",
            "ticks": ""
           }
          },
          "title": {
           "x": 0.05
          },
          "xaxis": {
           "automargin": true,
           "gridcolor": "white",
           "linecolor": "white",
           "ticks": "",
           "title": {
            "standoff": 15
           },
           "zerolinecolor": "white",
           "zerolinewidth": 2
          },
          "yaxis": {
           "automargin": true,
           "gridcolor": "white",
           "linecolor": "white",
           "ticks": "",
           "title": {
            "standoff": 15
           },
           "zerolinecolor": "white",
           "zerolinewidth": 2
          }
         }
        },
        "title": {
         "text": "lol"
        },
        "xaxis": {
         "anchor": "y",
         "domain": [
          0,
          1
         ],
         "title": {
          "text": "index"
         }
        },
        "yaxis": {
         "anchor": "x",
         "domain": [
          0,
          1
         ],
         "title": {
          "text": "shield"
         }
        }
       }
      }
     },
     "metadata": {},
     "output_type": "display_data"
    }
   ],
   "source": [
    "import plotly.express as px\n",
    "fig = px.line(df, x=df.index, y='shield', title='lol')\n",
    "fig.show()"
   ]
  },
  {
   "cell_type": "markdown",
   "metadata": {},
   "source": [
    "###### <b>SUBSCRIBE<b>"
   ]
  },
  {
   "cell_type": "code",
   "execution_count": 18,
   "metadata": {},
   "outputs": [
    {
     "name": "stdout",
     "output_type": "stream",
     "text": [
      "death dexpected value: [234;237], and got : 235.7738800048828\n"
     ]
    },
    {
     "data": {
      "text/plain": [
       "True"
      ]
     },
     "execution_count": 18,
     "metadata": {},
     "output_type": "execute_result"
    }
   ],
   "source": [
    "img = cv.imread('906.png')\n",
    "display(filter_death(img))\n",
    "\n",
    "detect_death(img, debug=True)\n",
    "# detect_pause(img, debug=True)\n",
    "# detect_tab(img, debug=True)\n",
    "# detect_transition(img, debug=True)\n"
   ]
  },
  {
   "cell_type": "code",
   "execution_count": 10,
   "metadata": {},
   "outputs": [
    {
     "name": "stdout",
     "output_type": "stream",
     "text": [
      "allies: {'front': 2, 'left': 1, 'right': 0, 'behind': 0}\n",
      "enemies: {'front': 2, 'left': 1, 'right': 0, 'behind': 0}\n",
      "shield: 0.24%\n",
      "health: 0.00%\n",
      "kill feed: 0\n",
      "main: unknown\n",
      "secondary: unknown\n",
      "allies: {'front': 1, 'left': 2, 'right': 1, 'behind': 0}\n",
      "enemies: {'front': 4, 'left': 1, 'right': 2, 'behind': 0}\n",
      "shield: 100.00%\n",
      "health: 100.00%\n",
      "kill feed: 0\n",
      "main: mangler\n",
      "secondary: commando\n",
      "allies: {'front': 0, 'left': 0, 'right': 4, 'behind': 0}\n",
      "enemies: {'front': 1, 'left': 0, 'right': 0, 'behind': 1}\n",
      "shield: 39.02%\n",
      "health: 100.00%\n",
      "kill feed: 1\n",
      "main: hydra\n",
      "secondary: sidekick\n"
     ]
    }
   ],
   "source": [
    "for i in [157, 334, 374]:\n",
    "    img = cv.imread(f'{i}.png')\n",
    "    print(\"allies:\", count_quadrants(scrap_radar(img, allies=True)))\n",
    "    print(\"enemies:\", count_quadrants(scrap_radar(img, allies=False)))\n",
    "    print(f\"shield: {get_bar_status(img, shield=True):.2f}%\")\n",
    "    print(f\"health: {get_bar_status(img, shield=False):.2f}%\")\n",
    "    print(\"kill feed:\", scrap_kill_feed(img))\n",
    "    print(\"main:\", recognize_weapon(img, main=True))\n",
    "    print(\"secondary:\", recognize_weapon(img, main=False))\n",
    "    display(img)"
   ]
  },
  {
   "cell_type": "code",
   "execution_count": 2,
   "metadata": {},
   "outputs": [],
   "source": [
    "img = cv.imread(f'710.png')\n",
    "# display(img)\n"
   ]
  },
  {
   "cell_type": "code",
   "execution_count": 7,
   "metadata": {},
   "outputs": [
    {
     "name": "stdout",
     "output_type": "stream",
     "text": [
      "Friendly at position: behind\n",
      "allies: {'front': 0, 'left': 0, 'right': 0, 'behind': 1}\n"
     ]
    }
   ],
   "source": [
    "print(\"allies:\", count_quadrants(scrap_radar(img, allies=True, debug=True)))\n"
   ]
  },
  {
   "cell_type": "code",
   "execution_count": 14,
   "metadata": {},
   "outputs": [
    {
     "name": "stdout",
     "output_type": "stream",
     "text": [
      "Enemy at position: front\n",
      "enemies: {'front': 1, 'left': 0, 'right': 0, 'behind': 0}\n"
     ]
    }
   ],
   "source": [
    "print(\"enemies:\", count_quadrants(scrap_radar(img, allies=False, debug=True)))\n"
   ]
  },
  {
   "cell_type": "code",
   "execution_count": 15,
   "metadata": {},
   "outputs": [
    {
     "name": "stdout",
     "output_type": "stream",
     "text": [
      "shield: 100.00%\n"
     ]
    }
   ],
   "source": [
    "print(f\"shield: {get_bar_status(img, shield=True):.2f}%\")\n"
   ]
  },
  {
   "cell_type": "code",
   "execution_count": 16,
   "metadata": {},
   "outputs": [
    {
     "name": "stdout",
     "output_type": "stream",
     "text": [
      "health: 100.00%\n"
     ]
    }
   ],
   "source": [
    "print(f\"health: {get_bar_status(img, shield=False):.2f}%\")\n"
   ]
  },
  {
   "cell_type": "code",
   "execution_count": 5,
   "metadata": {},
   "outputs": [
    {
     "name": "stdout",
     "output_type": "stream",
     "text": [
      "kill feed: 1\n"
     ]
    }
   ],
   "source": [
    "print(\"kill feed:\", scrap_kill_feed(img, debug=True))\n",
    "display(img)"
   ]
  },
  {
   "cell_type": "code",
   "execution_count": 4,
   "metadata": {},
   "outputs": [
    {
     "name": "stdout",
     "output_type": "stream",
     "text": [
      "Similarity with ar: 653.0888061523438\n",
      "Similarity with br: 10707.177734375\n",
      "Similarity with bulldog: 11006.693359375\n",
      "Similarity with carbine: 11082.0771484375\n",
      "Similarity with cindershot: 11334.3291015625\n",
      "Similarity with commando: 11013.681640625\n",
      "Similarity with disruptor: 10982.2509765625\n",
      "Similarity with hammer: 10807.5625\n",
      "Similarity with heatwave: 11488.0263671875\n",
      "Similarity with hydra: 10854.4697265625\n",
      "Similarity with mangler: 11543.9931640625\n",
      "Similarity with needler: 11170.671875\n",
      "Similarity with plasma: 10934.0927734375\n",
      "Similarity with ravager: 11271.4111328125\n",
      "Similarity with sentinel: 11066.146484375\n",
      "Similarity with shock: 11314.099609375\n",
      "Similarity with sidekick: 10653.7939453125\n",
      "Similarity with skewer: 11572.81640625\n",
      "Similarity with sniper: 10274.6484375\n",
      "Similarity with spnkr: 11010.7333984375\n",
      "Similarity with stalker: 11204.484375\n",
      "Similarity with sword: 11087.4345703125\n",
      "main: ar\n"
     ]
    }
   ],
   "source": [
    "print(\"main:\", recognize_weapon(img, main=True, debug=True))\n"
   ]
  },
  {
   "cell_type": "code",
   "execution_count": 5,
   "metadata": {},
   "outputs": [
    {
     "name": "stdout",
     "output_type": "stream",
     "text": [
      "Similarity with ar: 6304.4306640625\n",
      "Similarity with br: 6195.7958984375\n",
      "Similarity with bulldog: 6011.61669921875\n",
      "Similarity with carbine: 6092.39306640625\n",
      "Similarity with cindershot: 6568.84619140625\n",
      "Similarity with commando: 5617.37353515625\n",
      "Similarity with disruptor: 4591.18017578125\n",
      "Similarity with hammer: 6274.650390625\n",
      "Similarity with heatwave: 7069.06689453125\n",
      "Similarity with hydra: 5951.76318359375\n",
      "Similarity with mangler: 4985.99951171875\n",
      "Similarity with needler: 4829.94970703125\n",
      "Similarity with plasma: 3809.408447265625\n",
      "Similarity with ravager: 5993.81689453125\n",
      "Similarity with sentinel: 4874.48291015625\n",
      "Similarity with shock: 6847.04833984375\n",
      "Similarity with sidekick: 0.0\n",
      "Similarity with skewer: 6571.1689453125\n",
      "Similarity with sniper: 5563.986328125\n",
      "Similarity with spnkr: 6877.51708984375\n",
      "Similarity with stalker: 6642.38623046875\n",
      "Similarity with sword: 5169.06787109375\n",
      "secondary: sidekick\n"
     ]
    }
   ],
   "source": [
    "print(\"secondary:\", recognize_weapon(img, main=False, debug=True))\n"
   ]
  },
  {
   "cell_type": "code",
   "execution_count": null,
   "metadata": {},
   "outputs": [],
   "source": []
  },
  {
   "cell_type": "code",
   "execution_count": null,
   "metadata": {},
   "outputs": [],
   "source": []
  },
  {
   "cell_type": "code",
   "execution_count": null,
   "metadata": {},
   "outputs": [],
   "source": []
  },
  {
   "cell_type": "code",
   "execution_count": null,
   "metadata": {},
   "outputs": [],
   "source": []
  },
  {
   "cell_type": "code",
   "execution_count": null,
   "metadata": {},
   "outputs": [],
   "source": []
  },
  {
   "cell_type": "code",
   "execution_count": 15,
   "metadata": {},
   "outputs": [
    {
     "data": {
      "text/html": [
       "<div>\n",
       "<style scoped>\n",
       "    .dataframe tbody tr th:only-of-type {\n",
       "        vertical-align: middle;\n",
       "    }\n",
       "\n",
       "    .dataframe tbody tr th {\n",
       "        vertical-align: top;\n",
       "    }\n",
       "\n",
       "    .dataframe thead th {\n",
       "        text-align: right;\n",
       "    }\n",
       "</style>\n",
       "<table border=\"1\" class=\"dataframe\">\n",
       "  <thead>\n",
       "    <tr style=\"text-align: right;\">\n",
       "      <th></th>\n",
       "      <th>shield</th>\n",
       "      <th>health</th>\n",
       "      <th>kill_feed</th>\n",
       "      <th>ally_front</th>\n",
       "      <th>ally_left</th>\n",
       "      <th>ally_right</th>\n",
       "      <th>ally_behind</th>\n",
       "      <th>enemy_front</th>\n",
       "      <th>enemy_left</th>\n",
       "      <th>enemy_right</th>\n",
       "      <th>enemy_behind</th>\n",
       "      <th>main_weapon</th>\n",
       "      <th>secondary_weapon</th>\n",
       "    </tr>\n",
       "  </thead>\n",
       "  <tbody>\n",
       "    <tr>\n",
       "      <th>0</th>\n",
       "      <td>100</td>\n",
       "      <td>100</td>\n",
       "      <td>0</td>\n",
       "      <td>0</td>\n",
       "      <td>0</td>\n",
       "      <td>0</td>\n",
       "      <td>0</td>\n",
       "      <td>0</td>\n",
       "      <td>0</td>\n",
       "      <td>0</td>\n",
       "      <td>0</td>\n",
       "      <td>ar</td>\n",
       "      <td>sidekick</td>\n",
       "    </tr>\n",
       "    <tr>\n",
       "      <th>1</th>\n",
       "      <td>0.0</td>\n",
       "      <td>0.0</td>\n",
       "      <td>0</td>\n",
       "      <td>1</td>\n",
       "      <td>2</td>\n",
       "      <td>3</td>\n",
       "      <td>0</td>\n",
       "      <td>1</td>\n",
       "      <td>2</td>\n",
       "      <td>0</td>\n",
       "      <td>0</td>\n",
       "      <td>unknown</td>\n",
       "      <td>unknown</td>\n",
       "    </tr>\n",
       "    <tr>\n",
       "      <th>2</th>\n",
       "      <td>100.0</td>\n",
       "      <td>100.0</td>\n",
       "      <td>0</td>\n",
       "      <td>1</td>\n",
       "      <td>2</td>\n",
       "      <td>1</td>\n",
       "      <td>0</td>\n",
       "      <td>0</td>\n",
       "      <td>0</td>\n",
       "      <td>0</td>\n",
       "      <td>0</td>\n",
       "      <td>unknown</td>\n",
       "      <td>sidekick</td>\n",
       "    </tr>\n",
       "    <tr>\n",
       "      <th>3</th>\n",
       "      <td>100.0</td>\n",
       "      <td>100.0</td>\n",
       "      <td>0</td>\n",
       "      <td>0</td>\n",
       "      <td>0</td>\n",
       "      <td>2</td>\n",
       "      <td>1</td>\n",
       "      <td>0</td>\n",
       "      <td>1</td>\n",
       "      <td>4</td>\n",
       "      <td>3</td>\n",
       "      <td>ar</td>\n",
       "      <td>sidekick</td>\n",
       "    </tr>\n",
       "    <tr>\n",
       "      <th>4</th>\n",
       "      <td>77.317073</td>\n",
       "      <td>14.0</td>\n",
       "      <td>0</td>\n",
       "      <td>0</td>\n",
       "      <td>0</td>\n",
       "      <td>1</td>\n",
       "      <td>2</td>\n",
       "      <td>0</td>\n",
       "      <td>0</td>\n",
       "      <td>0</td>\n",
       "      <td>0</td>\n",
       "      <td>unknown</td>\n",
       "      <td>unknown</td>\n",
       "    </tr>\n",
       "    <tr>\n",
       "      <th>...</th>\n",
       "      <td>...</td>\n",
       "      <td>...</td>\n",
       "      <td>...</td>\n",
       "      <td>...</td>\n",
       "      <td>...</td>\n",
       "      <td>...</td>\n",
       "      <td>...</td>\n",
       "      <td>...</td>\n",
       "      <td>...</td>\n",
       "      <td>...</td>\n",
       "      <td>...</td>\n",
       "      <td>...</td>\n",
       "      <td>...</td>\n",
       "    </tr>\n",
       "    <tr>\n",
       "      <th>809</th>\n",
       "      <td>0.0</td>\n",
       "      <td>0.0</td>\n",
       "      <td>0</td>\n",
       "      <td>0</td>\n",
       "      <td>0</td>\n",
       "      <td>0</td>\n",
       "      <td>0</td>\n",
       "      <td>0</td>\n",
       "      <td>0</td>\n",
       "      <td>0</td>\n",
       "      <td>0</td>\n",
       "      <td>unknown</td>\n",
       "      <td>unknown</td>\n",
       "    </tr>\n",
       "    <tr>\n",
       "      <th>810</th>\n",
       "      <td>0.0</td>\n",
       "      <td>14.8</td>\n",
       "      <td>0</td>\n",
       "      <td>0</td>\n",
       "      <td>0</td>\n",
       "      <td>0</td>\n",
       "      <td>0</td>\n",
       "      <td>0</td>\n",
       "      <td>0</td>\n",
       "      <td>0</td>\n",
       "      <td>0</td>\n",
       "      <td>unknown</td>\n",
       "      <td>unknown</td>\n",
       "    </tr>\n",
       "    <tr>\n",
       "      <th>811</th>\n",
       "      <td>0.0</td>\n",
       "      <td>99.6</td>\n",
       "      <td>0</td>\n",
       "      <td>0</td>\n",
       "      <td>0</td>\n",
       "      <td>0</td>\n",
       "      <td>0</td>\n",
       "      <td>0</td>\n",
       "      <td>0</td>\n",
       "      <td>0</td>\n",
       "      <td>0</td>\n",
       "      <td>unknown</td>\n",
       "      <td>unknown</td>\n",
       "    </tr>\n",
       "    <tr>\n",
       "      <th>812</th>\n",
       "      <td>0.0</td>\n",
       "      <td>100.0</td>\n",
       "      <td>0</td>\n",
       "      <td>0</td>\n",
       "      <td>0</td>\n",
       "      <td>0</td>\n",
       "      <td>0</td>\n",
       "      <td>0</td>\n",
       "      <td>0</td>\n",
       "      <td>0</td>\n",
       "      <td>0</td>\n",
       "      <td>unknown</td>\n",
       "      <td>unknown</td>\n",
       "    </tr>\n",
       "    <tr>\n",
       "      <th>813</th>\n",
       "      <td>0.0</td>\n",
       "      <td>89.6</td>\n",
       "      <td>0</td>\n",
       "      <td>0</td>\n",
       "      <td>0</td>\n",
       "      <td>0</td>\n",
       "      <td>0</td>\n",
       "      <td>0</td>\n",
       "      <td>0</td>\n",
       "      <td>0</td>\n",
       "      <td>0</td>\n",
       "      <td>unknown</td>\n",
       "      <td>unknown</td>\n",
       "    </tr>\n",
       "  </tbody>\n",
       "</table>\n",
       "<p>814 rows × 13 columns</p>\n",
       "</div>"
      ],
      "text/plain": [
       "        shield health kill_feed ally_front ally_left ally_right ally_behind  \\\n",
       "0          100    100         0          0         0          0           0   \n",
       "1          0.0    0.0         0          1         2          3           0   \n",
       "2        100.0  100.0         0          1         2          1           0   \n",
       "3        100.0  100.0         0          0         0          2           1   \n",
       "4    77.317073   14.0         0          0         0          1           2   \n",
       "..         ...    ...       ...        ...       ...        ...         ...   \n",
       "809        0.0    0.0         0          0         0          0           0   \n",
       "810        0.0   14.8         0          0         0          0           0   \n",
       "811        0.0   99.6         0          0         0          0           0   \n",
       "812        0.0  100.0         0          0         0          0           0   \n",
       "813        0.0   89.6         0          0         0          0           0   \n",
       "\n",
       "    enemy_front enemy_left enemy_right enemy_behind main_weapon  \\\n",
       "0             0          0           0            0          ar   \n",
       "1             1          2           0            0     unknown   \n",
       "2             0          0           0            0     unknown   \n",
       "3             0          1           4            3          ar   \n",
       "4             0          0           0            0     unknown   \n",
       "..          ...        ...         ...          ...         ...   \n",
       "809           0          0           0            0     unknown   \n",
       "810           0          0           0            0     unknown   \n",
       "811           0          0           0            0     unknown   \n",
       "812           0          0           0            0     unknown   \n",
       "813           0          0           0            0     unknown   \n",
       "\n",
       "    secondary_weapon  \n",
       "0           sidekick  \n",
       "1            unknown  \n",
       "2           sidekick  \n",
       "3           sidekick  \n",
       "4            unknown  \n",
       "..               ...  \n",
       "809          unknown  \n",
       "810          unknown  \n",
       "811          unknown  \n",
       "812          unknown  \n",
       "813          unknown  \n",
       "\n",
       "[814 rows x 13 columns]"
      ]
     },
     "execution_count": 15,
     "metadata": {},
     "output_type": "execute_result"
    }
   ],
   "source": [
    "df"
   ]
  },
  {
   "cell_type": "markdown",
   "metadata": {},
   "source": [
    "## OLD STUFF DO NOT GO THERE"
   ]
  },
  {
   "cell_type": "code",
   "execution_count": null,
   "metadata": {},
   "outputs": [],
   "source": [
    "from shutil import register_unpack_format\n",
    "import cv2 as cv\n",
    "import numpy as np\n",
    "import pyautogui\n",
    "import time\n",
    "from skimage import measure\n",
    "from imutils import contours\n",
    "import imutils\n",
    "import pandas as pd\n",
    "import playsound\n",
    "import os\n",
    "from random import choice\n",
    "from win32gui import GetWindowText, GetForegroundWindow\n",
    "from random import randint"
   ]
  },
  {
   "cell_type": "code",
   "execution_count": 2,
   "metadata": {},
   "outputs": [],
   "source": [
    "# read the image from the file screenshot4.png\n",
    "# img = cv.imread('screenshot4.png')\n",
    "# img = cv.imread('redvsblue.png')"
   ]
  },
  {
   "cell_type": "code",
   "execution_count": 3,
   "metadata": {},
   "outputs": [],
   "source": [
    "def filter_color(img, color, for_display=False):\n",
    "    copy = img.copy()\n",
    "    if for_display:\n",
    "        if color == 'red':\n",
    "            copy[:, :, 0] = 0\n",
    "            copy[:, :, 1] = 0\n",
    "        elif color == 'green':\n",
    "            copy[:, :, 0] = 0\n",
    "            copy[:, :, 2] = 0\n",
    "        elif color == 'blue':\n",
    "            copy[:, :, 1] = 0\n",
    "            copy[:, :, 2] = 0\n",
    "    else:\n",
    "        if color == 'blue':\n",
    "            copy = copy[:, :, 0]\n",
    "        elif color == 'green':\n",
    "            copy = copy[:, :, 1]\n",
    "        elif color == 'red':\n",
    "            copy = copy[:, :, 2]\n",
    "    return copy    "
   ]
  },
  {
   "cell_type": "code",
   "execution_count": 4,
   "metadata": {},
   "outputs": [],
   "source": [
    "def to_grayscale(img):\n",
    "    copy = img.copy()\n",
    "    copy = cv.cvtColor(copy, cv.COLOR_BGR2GRAY)\n",
    "    return copy"
   ]
  },
  {
   "cell_type": "code",
   "execution_count": 5,
   "metadata": {},
   "outputs": [],
   "source": [
    "def display(img):\n",
    "    cv.imshow('', img)\n",
    "    cv.waitKey(0)\n",
    "    cv.destroyAllWindows()"
   ]
  },
  {
   "cell_type": "code",
   "execution_count": 5,
   "metadata": {},
   "outputs": [],
   "source": [
    "# display(img)"
   ]
  },
  {
   "cell_type": "markdown",
   "metadata": {},
   "source": [
    "# RADAR"
   ]
  },
  {
   "cell_type": "code",
   "execution_count": 6,
   "metadata": {},
   "outputs": [],
   "source": [
    "def filter_radar(img):\n",
    "    radar = img.copy()\n",
    "    radar = radar[849:1041,60:279]\n",
    "    # set the middle of the image to black with a 5 pixel radius\n",
    "    center = (radar.shape[1]//2+1, radar.shape[0]//2-2)\n",
    "    cv.circle(radar, center, 9, (0, 0, 0), -1)\n",
    "    return radar, center"
   ]
  },
  {
   "cell_type": "code",
   "execution_count": 7,
   "metadata": {},
   "outputs": [],
   "source": [
    "def find_contours(img):\n",
    "\tlabels = measure.label(img, background=0)\n",
    "\tmask = np.zeros(img.shape, dtype=\"uint8\")\n",
    "\t# loop over the unique components\n",
    "\tfor label in np.unique(labels):\n",
    "\t\t# if this is the background label, ignore it\n",
    "\t\tif label == 0:\n",
    "\t\t\tcontinue\n",
    "\t\t# otherwise, construct the label mask and count the\n",
    "\t\t# number of pixels \n",
    "\t\tlabelMask = np.zeros(img.shape, dtype=\"uint8\")\n",
    "\t\tlabelMask[labels == label] = 255\n",
    "\t\tnumPixels = cv.countNonZero(labelMask)\n",
    "\t\t# if the number of pixels in the component is sufficiently\n",
    "\t\t# large, then add it to our mask of \"large blobs\"\n",
    "\t\tif numPixels > 15:\n",
    "\t\t\tmask = cv.add(mask, labelMask)\n",
    "\t\t\n",
    "\treturn mask"
   ]
  },
  {
   "cell_type": "code",
   "execution_count": 8,
   "metadata": {},
   "outputs": [],
   "source": [
    "def draw_blobs(img, mask, print_image=False):\n",
    "\tcnts = cv.findContours(mask.copy(), cv.RETR_EXTERNAL,\n",
    "\t\tcv.CHAIN_APPROX_SIMPLE)\n",
    "\tcnts = imutils.grab_contours(cnts)\n",
    "\ttry:\n",
    "\t\tcnts = contours.sort_contours(cnts)[0]\n",
    "\texcept:\n",
    "\t\treturn [], 0\n",
    "\tblob_centers = []\n",
    "\tfinal_radar = np.array(img)\n",
    "\n",
    "\tfor (i, c) in enumerate(cnts):\n",
    "\t\t(x, y), radius = cv.minEnclosingCircle(c)\n",
    "\t\tblob_center = (int(x), int(y))\n",
    "\t\tblob_centers.append(blob_center)\n",
    "\t\tradius = int(radius)\n",
    "\t\tcv.circle(final_radar, blob_center, radius, (0, 0, 0), 1)\n",
    "\t\tcv.putText(final_radar, \"{}\".format(i + 1), tuple([int(round(x+4)), int(round(y-2)) ]),\n",
    "\t\t\tcv.FONT_HERSHEY_SIMPLEX, 0.45, (0, 255, 0), 2)\n",
    "\tif print_image:\n",
    "\t\tcv.imshow(\"Image\", final_radar)\n",
    "\t\tcv.waitKey(0)\n",
    "\treturn blob_centers, len(cnts)"
   ]
  },
  {
   "cell_type": "code",
   "execution_count": 9,
   "metadata": {},
   "outputs": [],
   "source": [
    "def compute_angle(center, blob):\n",
    "    x, y = center\n",
    "    x1, y1 = blob\n",
    "    angle = np.arctan2(y1-y, x1-x)\n",
    "    # convert in degrees\n",
    "    angle = np.degrees(angle)\n",
    "    return angle+180"
   ]
  },
  {
   "cell_type": "code",
   "execution_count": 10,
   "metadata": {},
   "outputs": [],
   "source": [
    "def get_quadrant(angle):\n",
    "    if angle > 45 and angle <= 135:\n",
    "        return 'front'\n",
    "    elif angle > 135 and angle <= 225:\n",
    "        return 'right'\n",
    "    elif angle > 225 and angle <= 315:\n",
    "        return 'behind'\n",
    "    else:\n",
    "        return 'left'"
   ]
  },
  {
   "cell_type": "code",
   "execution_count": 11,
   "metadata": {},
   "outputs": [],
   "source": [
    "def scrap_radar(img, allies=False, debug=False):\n",
    "    radar, center = filter_radar(img)\n",
    "    if allies:\n",
    "        radar = filter_color(radar, \"blue\")\n",
    "    else:\n",
    "        radar = filter_color(radar, \"red\")\n",
    "    \n",
    "    blurred = cv.GaussianBlur(radar, (9, 9), 0)\n",
    "    thresh = cv.threshold(blurred, 230, 255, cv.THRESH_BINARY)[1]\n",
    "    mask = find_contours(thresh)\n",
    "    blob_centers, num_blobs = draw_blobs(radar, mask, debug)\n",
    "    \n",
    "    if num_blobs == 0:\n",
    "        if debug:\n",
    "            print(f'Nobody detected')\n",
    "        return []\n",
    "    else:\n",
    "        if debug:\n",
    "            for i in range(num_blobs):\n",
    "                if allies:\n",
    "                    print(f\"Friendly at position: {get_quadrant(compute_angle(center, blob_centers[i]))}\")\n",
    "                else:\n",
    "                    print(f\"Enemy at position: {get_quadrant(compute_angle(center, blob_centers[i]))}\")\n",
    "        return [get_quadrant(compute_angle(center, blob_centers[i])) for i in range(num_blobs)]"
   ]
  },
  {
   "cell_type": "code",
   "execution_count": 12,
   "metadata": {},
   "outputs": [],
   "source": [
    "def count_quadrants(quadrants):\n",
    "    counts = {'front': 0, 'left': 0, 'right': 0, 'behind': 0}\n",
    "    for quadrant in quadrants:\n",
    "        counts[quadrant] += 1\n",
    "    return counts\n"
   ]
  },
  {
   "cell_type": "code",
   "execution_count": 13,
   "metadata": {},
   "outputs": [],
   "source": [
    "# count_quadrants(scrap_radar(img, allies=True, debug=False))\n",
    "# count_quadrants(scrap_radar(img, allies=False, debug=False))"
   ]
  },
  {
   "cell_type": "markdown",
   "metadata": {},
   "source": [
    "# HEALTH BAR"
   ]
  },
  {
   "cell_type": "code",
   "execution_count": 14,
   "metadata": {},
   "outputs": [],
   "source": [
    "img = cv.imread('screenshot5.png')"
   ]
  },
  {
   "cell_type": "code",
   "execution_count": 17,
   "metadata": {},
   "outputs": [],
   "source": [
    "def filter_shield_bar(img):\n",
    "    copy = img.copy()\n",
    "    copy = copy[115,755:1165].reshape(1,410,3)\n",
    "    # copy = copy[110:125,755:1165]\n",
    "    return copy"
   ]
  },
  {
   "cell_type": "code",
   "execution_count": 18,
   "metadata": {},
   "outputs": [],
   "source": [
    "def filter_health_bar(img):\n",
    "    copy = img.copy()\n",
    "    copy = copy[127,835:1085].reshape(1,250,3)\n",
    "    return copy"
   ]
  },
  {
   "cell_type": "code",
   "execution_count": 19,
   "metadata": {},
   "outputs": [],
   "source": [
    "def get_bar_status(img, shield=True):\n",
    "    if shield:\n",
    "        img = filter_shield_bar(img)\n",
    "    else :\n",
    "        img = filter_health_bar(img)\n",
    "    img = filter_color(img, \"blue\")\n",
    "    # get percentage of bar filled\n",
    "    if shield:\n",
    "        img = cv.threshold(img, 128, 255, cv.THRESH_BINARY)[1]\n",
    "    else:\n",
    "        img = cv.threshold(img, 60, 255, cv.THRESH_BINARY)[1]\n",
    "    percentage = ( cv.countNonZero(img) / img.shape[1] ) * 100\n",
    "    return percentage\n"
   ]
  },
  {
   "cell_type": "code",
   "execution_count": 20,
   "metadata": {},
   "outputs": [],
   "source": [
    "# get_bar_status(img)"
   ]
  },
  {
   "cell_type": "code",
   "execution_count": 21,
   "metadata": {},
   "outputs": [],
   "source": [
    "# get_bar_status(img, shield=False)"
   ]
  },
  {
   "cell_type": "markdown",
   "metadata": {},
   "source": [
    "# KILL FEED"
   ]
  },
  {
   "cell_type": "code",
   "execution_count": 15,
   "metadata": {},
   "outputs": [],
   "source": [
    "def filter_kill_feed(img):\n",
    "    copy = img.copy()\n",
    "    copy = copy[540:640,50:70]\n",
    "    return copy"
   ]
  },
  {
   "cell_type": "code",
   "execution_count": 16,
   "metadata": {},
   "outputs": [],
   "source": [
    "def scrap_kill_feed(img, debug=False):\n",
    "    kill_feed = filter_kill_feed(img)\n",
    "    kill_feed = to_grayscale(kill_feed)\n",
    "    thresh = cv.threshold(kill_feed, 250, 255, cv.THRESH_BINARY)[1]\n",
    "    mask = find_contours(thresh)\n",
    "    _, num_blobs = draw_blobs(kill_feed, mask, debug)\n",
    "    return num_blobs"
   ]
  },
  {
   "cell_type": "code",
   "execution_count": 18,
   "metadata": {},
   "outputs": [
    {
     "data": {
      "text/plain": [
       "1"
      ]
     },
     "execution_count": 18,
     "metadata": {},
     "output_type": "execute_result"
    }
   ],
   "source": [
    "scrap_kill_feed(img)"
   ]
  },
  {
   "cell_type": "markdown",
   "metadata": {},
   "source": [
    "# DETECT PAUSE MENU"
   ]
  },
  {
   "cell_type": "code",
   "execution_count": 3,
   "metadata": {},
   "outputs": [],
   "source": [
    "time.sleep(4)\n",
    "img = pyautogui.screenshot()\n",
    "img = np.array(img)\n",
    "img = img[:, :, ::-1].copy()"
   ]
  },
  {
   "cell_type": "code",
   "execution_count": 39,
   "metadata": {},
   "outputs": [],
   "source": [
    "time.sleep(3)\n",
    "mouse = pyautogui.screenshot()\n",
    "mouse = np.array(mouse)\n",
    "mouse = mouse[:, :, ::-1].copy()"
   ]
  },
  {
   "cell_type": "code",
   "execution_count": 5,
   "metadata": {},
   "outputs": [
    {
     "data": {
      "text/plain": [
       "211.95119"
      ]
     },
     "execution_count": 5,
     "metadata": {},
     "output_type": "execute_result"
    }
   ],
   "source": [
    "get_average_pixel_value(filter_menu(img))"
   ]
  },
  {
   "cell_type": "code",
   "execution_count": 83,
   "metadata": {},
   "outputs": [],
   "source": [
    "display(filter_menu(img))"
   ]
  },
  {
   "cell_type": "code",
   "execution_count": 26,
   "metadata": {},
   "outputs": [],
   "source": [
    "def filter_death(img):\n",
    "    copy = img.copy()\n",
    "    # copy = copy[650:675,850:1070] # respawn in\n",
    "    # copy = copy[700:705,832:835] # timer\n",
    "    copy = copy[925:940,120:160] # button/mouse\n",
    "    return copy"
   ]
  },
  {
   "cell_type": "code",
   "execution_count": 27,
   "metadata": {},
   "outputs": [],
   "source": [
    "def filter_transition(img):\n",
    "    copy = img.copy()\n",
    "    copy = copy[980:1080,1825:1915]\n",
    "    return copy"
   ]
  },
  {
   "cell_type": "code",
   "execution_count": 79,
   "metadata": {},
   "outputs": [],
   "source": [
    "def filter_menu(img):\n",
    "    copy = img.copy()\n",
    "    # copy = copy[100:320,100:260] # gets gm logo on blue background\n",
    "    copy = copy[1051:1065,1770:1790] # gets gm logo on red background\n",
    "    return copy"
   ]
  },
  {
   "cell_type": "code",
   "execution_count": 29,
   "metadata": {},
   "outputs": [],
   "source": [
    "def filter_pause(img):\n",
    "    copy = img.copy()\n",
    "    copy = copy[100:320,100:260] # gets gm logo on blue background\n",
    "    # copy = copy[1050:1065,1755:1800] # gets gm logo on red background\n",
    "    return copy"
   ]
  },
  {
   "cell_type": "code",
   "execution_count": 30,
   "metadata": {},
   "outputs": [],
   "source": [
    "def get_average_pixel_value(img):\n",
    "    img = img.reshape(1, -1)\n",
    "    img = img.astype(np.float32)\n",
    "    return np.average(img)"
   ]
  },
  {
   "cell_type": "code",
   "execution_count": 31,
   "metadata": {},
   "outputs": [],
   "source": [
    "def detect_death(img, debug=False):\n",
    "    # img = filter_color(img, \"blue\")\n",
    "    img = filter_death(img)\n",
    "    avg = get_average_pixel_value(img)\n",
    "    if debug:\n",
    "        print(avg)\n",
    "    return 219 < avg # < 226 # unnecessary beacause its the radar location and its always darkish"
   ]
  },
  {
   "cell_type": "code",
   "execution_count": 32,
   "metadata": {},
   "outputs": [],
   "source": [
    "def detect_transition(img, debug=False):\n",
    "    img = filter_transition(img)\n",
    "    avg = get_average_pixel_value(img)\n",
    "    if debug:\n",
    "        print(avg)\n",
    "    return 2 < avg < 3"
   ]
  },
  {
   "cell_type": "code",
   "execution_count": 33,
   "metadata": {},
   "outputs": [],
   "source": [
    "def detect_pause(img, debug=False):\n",
    "    img = filter_color(img, \"blue\")\n",
    "    img = filter_pause(img)\n",
    "    avg = get_average_pixel_value(img)\n",
    "    if debug:\n",
    "        print(avg)\n",
    "    return 140 < avg < 143"
   ]
  },
  {
   "cell_type": "code",
   "execution_count": 6,
   "metadata": {},
   "outputs": [],
   "source": [
    "def detect_menu(img, debug=False):\n",
    "    img = filter_menu(img)\n",
    "    avg = get_average_pixel_value(img)\n",
    "    if debug:\n",
    "        print(avg)\n",
    "    return 207 < avg < 212"
   ]
  },
  {
   "cell_type": "code",
   "execution_count": 35,
   "metadata": {},
   "outputs": [],
   "source": [
    "# detect_pause(img)"
   ]
  },
  {
   "cell_type": "code",
   "execution_count": 36,
   "metadata": {},
   "outputs": [],
   "source": [
    "# detect_menu(img)"
   ]
  },
  {
   "cell_type": "code",
   "execution_count": 37,
   "metadata": {},
   "outputs": [],
   "source": [
    "# detect_death(img, debug=True)"
   ]
  },
  {
   "cell_type": "markdown",
   "metadata": {},
   "source": [
    "# DETECT WEAPONS"
   ]
  },
  {
   "cell_type": "code",
   "execution_count": 6,
   "metadata": {},
   "outputs": [],
   "source": [
    "def filter_main_weapon(img):\n",
    "    copy = img.copy()\n",
    "    copy = copy[950:1010,1700:1825] # gets gm logo on blue background\n",
    "    return copy"
   ]
  },
  {
   "cell_type": "code",
   "execution_count": 53,
   "metadata": {},
   "outputs": [],
   "source": [
    "def filter_secondary_weapon(img):\n",
    "    copy = img.copy()\n",
    "    copy = copy[895:925,1580:1660] # gets gm logo on red background\n",
    "    return copy"
   ]
  },
  {
   "cell_type": "code",
   "execution_count": 192,
   "metadata": {},
   "outputs": [],
   "source": [
    "screen = pyautogui.screenshot()"
   ]
  },
  {
   "cell_type": "code",
   "execution_count": 193,
   "metadata": {},
   "outputs": [],
   "source": [
    "# save the image to weapons folder\n",
    "screen.save('weapons/sentinel.png')"
   ]
  },
  {
   "cell_type": "code",
   "execution_count": 34,
   "metadata": {},
   "outputs": [],
   "source": [
    "def process_weapons(img, main=True):\n",
    "    if main:\n",
    "        weapon = filter_main_weapon(img)\n",
    "    else:\n",
    "        weapon = filter_secondary_weapon(img)\n",
    "    blue = filter_color(weapon, \"blue\")\n",
    "    binary = cv.threshold(blue, 200, 255, cv.THRESH_TOZERO)[1]\n",
    "    # binary[binary == 255] = 0\n",
    "    return binary"
   ]
  },
  {
   "cell_type": "code",
   "execution_count": 56,
   "metadata": {},
   "outputs": [],
   "source": [
    "for filename in os.listdir('./weapons'):\n",
    "    if filename == 'main' or filename == 'secondary':\n",
    "        continue\n",
    "    img = cv.imread('./weapons/' + filename)\n",
    "    filtered_img = process_weapons(img, main=False)\n",
    "    cv.imwrite('./weapons/secondary/' + filename, filtered_img)\n",
    "    "
   ]
  },
  {
   "cell_type": "code",
   "execution_count": 57,
   "metadata": {},
   "outputs": [],
   "source": [
    "def retrieve_weapons(main=True):\n",
    "    weapon_list = {}\n",
    "    if main:\n",
    "        path = './weapons/main/'\n",
    "    else:\n",
    "        path = './weapons/secondary/'\n",
    "    for filename in os.listdir(path):\n",
    "        img = cv.imread(path + filename, 0)\n",
    "        weapon_list[filename.replace(\".png\", \"\")] = img\n",
    "    return weapon_list"
   ]
  },
  {
   "cell_type": "code",
   "execution_count": 20,
   "metadata": {},
   "outputs": [],
   "source": [
    "# get euclidean distance between filtered_img and weapon_list['sidekick']\n",
    "def get_distance(img, weapon):\n",
    "    img = img.reshape(1, -1)\n",
    "    img = img.astype(np.float32)\n",
    "    weapon = weapon.reshape(1, -1)\n",
    "    weapon = weapon.astype(np.float32)\n",
    "    return np.linalg.norm(img - weapon)"
   ]
  },
  {
   "cell_type": "code",
   "execution_count": null,
   "metadata": {},
   "outputs": [],
   "source": [
    "def recognize_weapon(img, weapon_list, debug=False):\n",
    "    value = 10000\n",
    "    for name, weapon in weapon_list.items():\n",
    "        distance = get_distance(img, weapon)\n",
    "        if debug:\n",
    "            print(f\"Similarity with {name}: {distance}\")\n",
    "        if distance < value:\n",
    "            value = distance\n",
    "            best_weapon = name\n",
    "    return best_weapon"
   ]
  },
  {
   "cell_type": "code",
   "execution_count": 21,
   "metadata": {},
   "outputs": [],
   "source": [
    "img = cv.imread('50.png')"
   ]
  },
  {
   "cell_type": "code",
   "execution_count": 19,
   "metadata": {},
   "outputs": [],
   "source": [
    "display(img)\n",
    "display(secondary_weapons['shock'])"
   ]
  },
  {
   "cell_type": "code",
   "execution_count": 61,
   "metadata": {},
   "outputs": [],
   "source": [
    "main_weapons = retrieve_weapons(main=True)\n",
    "secondary_weapons = retrieve_weapons(main=False)"
   ]
  },
  {
   "cell_type": "code",
   "execution_count": 22,
   "metadata": {},
   "outputs": [
    {
     "name": "stdout",
     "output_type": "stream",
     "text": [
      "Similarity with ar: 10678.2490234375\n",
      "Similarity with br: 1170.00341796875\n",
      "Similarity with bulldog: 10391.1494140625\n",
      "Similarity with carbine: 10520.7314453125\n",
      "Similarity with cindershot: 10298.3515625\n",
      "Similarity with commando: 10475.8828125\n",
      "Similarity with disruptor: 10578.1083984375\n",
      "Similarity with hammer: 10360.134765625\n",
      "Similarity with heatwave: 11241.0458984375\n",
      "Similarity with hydra: 10779.23828125\n",
      "Similarity with mangler: 11274.0478515625\n",
      "Similarity with needler: 11067.359375\n",
      "Similarity with plasma: 10844.4130859375\n",
      "Similarity with ravager: 11278.73046875\n",
      "Similarity with sentinel: 10744.5341796875\n",
      "Similarity with shock: 10920.408203125\n",
      "Similarity with sidekick: 10482.8583984375\n",
      "Similarity with skewer: 11242.3623046875\n",
      "Similarity with sniper: 9778.765625\n",
      "Similarity with spnkr: 11039.728515625\n",
      "Similarity with stalker: 10727.7314453125\n",
      "Similarity with sword: 10912.2041015625\n"
     ]
    },
    {
     "data": {
      "text/plain": [
       "'br'"
      ]
     },
     "execution_count": 22,
     "metadata": {},
     "output_type": "execute_result"
    }
   ],
   "source": [
    "recognize_weapon(img, main=True, debug=True)"
   ]
  },
  {
   "cell_type": "markdown",
   "metadata": {},
   "source": [
    "# CORTANA"
   ]
  },
  {
   "cell_type": "code",
   "execution_count": 54,
   "metadata": {},
   "outputs": [],
   "source": [
    "def record_state(df, frame, i, debug=False):\n",
    "    allies = count_quadrants(scrap_radar(frame, allies=True, debug=debug))\n",
    "    for key, value in allies.items():\n",
    "        df.loc[i, f\"ally_{key}\"] = value\n",
    "    enemies = count_quadrants(scrap_radar(frame, allies=False, debug=debug))\n",
    "    for key, value in enemies.items():\n",
    "        df.loc[i, f\"enemy_{key}\"] = value\n",
    "    df.loc[i, 'shield'] = get_bar_status(frame, shield=True)\n",
    "    df.loc[i, 'health'] = get_bar_status(frame, shield=False)\n",
    "    df.loc[i, 'kill_feed'] = scrap_kill_feed(frame, debug=debug)\n",
    "    return df"
   ]
  },
  {
   "cell_type": "code",
   "execution_count": 55,
   "metadata": {},
   "outputs": [],
   "source": [
    "def call_cortana_for_help(df, i, last_callout, debug=False):\n",
    "    path = \"C:\\\\Users\\\\valen\\\\Music\\\\weapon\\\\\"\n",
    "    # print(time.time() - last_callout)\n",
    "    if df.loc[i, 'enemy_behind'] > 0:\n",
    "        mp3 = choice(os.listdir(path + \"behind you\\\\\"))\n",
    "        if debug:\n",
    "            print(f\"enemies behind you, playing {mp3}\")\n",
    "        last_callout = time.time()\n",
    "        playsound.playsound(path + \"behind you\\\\\" + mp3)\n",
    "    elif df.loc[i, 'kill_feed'] > 0:\n",
    "        mp3 = choice(os.listdir(path + \"BM\\\\\"))\n",
    "        if debug:\n",
    "            print(f\"kill feed detected, playing {mp3}\")\n",
    "        playsound.playsound(path + \"BM\\\\\" + mp3)\n",
    "        last_callout = time.time()\n",
    "    elif df.loc[i, 'enemy_front'] > 0:\n",
    "        mp3 = choice(os.listdir(path + \"target to kill\\\\\"))\n",
    "        if debug:\n",
    "            print(f\"enemies in front, playing {mp3}\")\n",
    "        playsound.playsound(path + \"target to kill\\\\\" + mp3)\n",
    "        last_callout = time.time()\n",
    "    elif df.loc[i, 'shield'] < df.loc[i-1, 'shield']:\n",
    "        mp3 = choice(os.listdir(path + \"under attack\\\\\"))\n",
    "        if debug:\n",
    "            print(f\"shield damaged, playing {mp3}\")\n",
    "        playsound.playsound(path + \"under attack\\\\\" + mp3)\n",
    "        last_callout = time.time()\n",
    "    elif df.loc[i, 'shield'] > df.loc[i-1, 'shield']:\n",
    "        mp3 = choice(os.listdir(path + \"clear\\\\\"))\n",
    "        if debug:\n",
    "            print(f\"shield restored, playing {mp3}\")\n",
    "        playsound.playsound(path + \"clear\\\\\" + mp3)\n",
    "        last_callout = time.time()\n",
    "    elif last_callout - time.time() < 60:\n",
    "        mp3 = choice(os.listdir(path + \"quirks\\\\\"))\n",
    "        if debug:\n",
    "            print(f\"RAS {mp3}\")\n",
    "        playsound.playsound(path + \"quirks\\\\\" + mp3)\n",
    "        last_callout = time.time()\n",
    "    return last_callout"
   ]
  },
  {
   "cell_type": "code",
   "execution_count": 40,
   "metadata": {},
   "outputs": [],
   "source": [
    "# path = \"C:\\\\Users\\\\valen\\\\Music\\\\weapon\\\\clear\\\\\"\n",
    "# mp3 = os.listdir(path)\n",
    "# playsound.playsound(path + mp3[0])"
   ]
  },
  {
   "cell_type": "code",
   "execution_count": 41,
   "metadata": {},
   "outputs": [],
   "source": [
    "# # set all to 0\n",
    "# for i in range(0, 10):\n",
    "#     df.loc[i] = 0\n",
    "# df.loc[0, 'enemy_left'] = 3\n",
    "# df.loc[1, 'kill_feed'] = 1\n",
    "# df.loc[0, 'shield'] = 100\n",
    "# df.loc[1, 'shield'] = 100"
   ]
  },
  {
   "cell_type": "code",
   "execution_count": 42,
   "metadata": {},
   "outputs": [],
   "source": [
    "# call_cortana_for_help(df, 5, 1654110499.8616495)"
   ]
  },
  {
   "cell_type": "code",
   "execution_count": 56,
   "metadata": {},
   "outputs": [],
   "source": [
    "def state_detection(df, debug=False, skip=False):\n",
    "    # fps = 1\n",
    "    prev = 0\n",
    "    i = 1\n",
    "    last_callout = time.time()\n",
    "    while True:\n",
    "        time_elapsed = time.time()-prev\n",
    "        img = pyautogui.screenshot()\n",
    "        if time_elapsed > 1:\n",
    "            prev = time.time()\n",
    "            frame = np.array(img)\n",
    "            frame = frame[:, :, ::-1].copy()\n",
    "            if detect_menu(frame, skip) or detect_transition(frame, skip) or detect_pause(frame, skip) or detect_death(frame, skip):\n",
    "                if debug:\n",
    "                    print(f\"ur afk bruh\")\n",
    "            else:\n",
    "                df = record_state(df, frame, i, debug)\n",
    "                if debug:\n",
    "                    print(i)\n",
    "                last_callout = call_cortana_for_help(df, i, last_callout, debug)\n",
    "                i+=1\n",
    "        # cv.waitKey(1000)\n",
    "        "
   ]
  },
  {
   "cell_type": "code",
   "execution_count": null,
   "metadata": {},
   "outputs": [],
   "source": []
  }
 ],
 "metadata": {
  "interpreter": {
   "hash": "837c519a48be08d8749c778cb72b9b5aac116a087aa5d1d99ee0359dceff73e6"
  },
  "kernelspec": {
   "display_name": "Python 3.10.2 64-bit",
   "language": "python",
   "name": "python3"
  },
  "language_info": {
   "codemirror_mode": {
    "name": "ipython",
    "version": 3
   },
   "file_extension": ".py",
   "mimetype": "text/x-python",
   "name": "python",
   "nbconvert_exporter": "python",
   "pygments_lexer": "ipython3",
   "version": "3.10.2"
  },
  "orig_nbformat": 4
 },
 "nbformat": 4,
 "nbformat_minor": 2
}
